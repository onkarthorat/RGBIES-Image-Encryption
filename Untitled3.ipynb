{
 "cells": [
  {
   "cell_type": "code",
   "execution_count": 1,
   "metadata": {},
   "outputs": [],
   "source": [
    "import numpy as np\n",
    "import math\n",
    "import PIL\n",
    "from matplotlib.pyplot import imshow"
   ]
  },
  {
   "cell_type": "code",
   "execution_count": 2,
   "metadata": {},
   "outputs": [],
   "source": [
    "img = PIL.Image.open('images/cat.png', 'r')\n",
    "img_arr = np.array(img)"
   ]
  },
  {
   "cell_type": "code",
   "execution_count": 3,
   "metadata": {},
   "outputs": [
    {
     "data": {
      "text/plain": [
       "(733, 490, 3)"
      ]
     },
     "execution_count": 3,
     "metadata": {},
     "output_type": "execute_result"
    }
   ],
   "source": [
    "img_arr.shape"
   ]
  },
  {
   "cell_type": "code",
   "execution_count": 4,
   "metadata": {},
   "outputs": [],
   "source": [
    "def get_meta_key(img_arr):\n",
    "    \n",
    "    img_arr = img_arr / 255\n",
    "    meta_key = 0\n",
    "    for i in range(img_arr.shape[0]):\n",
    "        for j in range(img_arr.shape[1]):\n",
    "            for k in range(img_arr.shape[2]):\n",
    "                meta_key += img_arr[i,j,k]\n",
    "                \n",
    "    return round((meta_key / (img_arr.shape[0] * img_arr.shape[1] * img_arr.shape[2])), 6)"
   ]
  },
  {
   "cell_type": "code",
   "execution_count": 5,
   "metadata": {},
   "outputs": [],
   "source": [
    "meta_key = get_meta_key(img_arr)"
   ]
  },
  {
   "cell_type": "code",
   "execution_count": 6,
   "metadata": {},
   "outputs": [
    {
     "data": {
      "text/plain": [
       "0.552379"
      ]
     },
     "execution_count": 6,
     "metadata": {},
     "output_type": "execute_result"
    }
   ],
   "source": [
    "meta_key"
   ]
  },
  {
   "cell_type": "code",
   "execution_count": 7,
   "metadata": {},
   "outputs": [],
   "source": [
    "# 0.3892162248200853"
   ]
  },
  {
   "cell_type": "code",
   "execution_count": 8,
   "metadata": {},
   "outputs": [],
   "source": [
    "import math\n",
    "\n",
    "def keygen(x, r, size):\n",
    "    key = []\n",
    "    for i in range(size):\n",
    "        x = x*r*(1-x)\n",
    "        key.append(int((x * math.pow(10,16))% 256))\n",
    "        \n",
    "    return key"
   ]
  },
  {
   "cell_type": "code",
   "execution_count": 9,
   "metadata": {},
   "outputs": [],
   "source": [
    "key = keygen(meta_key, 3.91, img_arr.shape[0] * img_arr.shape[1] * img_arr.shape[2])"
   ]
  },
  {
   "cell_type": "code",
   "execution_count": 10,
   "metadata": {},
   "outputs": [],
   "source": [
    "key = np.array(key)\n",
    "key = np.reshape(key, (img_arr.shape[0], img_arr.shape[1], img_arr.shape[2]))"
   ]
  },
  {
   "cell_type": "code",
   "execution_count": 11,
   "metadata": {},
   "outputs": [],
   "source": [
    "def make_gcd_matrix(key):\n",
    "    \n",
    "    pix_val_key = []\n",
    "    for i in range(key.shape[0]):\n",
    "        for j in range(key.shape[1]):\n",
    "            pix_val_key.append((key[i,j,0], key[i,j,1], key[i,j,2]))\n",
    "    \n",
    "    rows = key.shape[0]\n",
    "    cols = key.shape[1]\n",
    "    \n",
    "    gcd_matrix = []\n",
    "\n",
    "    temp_li = []\n",
    "    for pix_val in pix_val_key:\n",
    "        \n",
    "        gcd1 = math.gcd(pix_val[0], pix_val[1])\n",
    "        gcd2 = math.gcd(pix_val[1], pix_val[2])\n",
    "        gcd3 = math.gcd(pix_val[2], pix_val[0])\n",
    "        gcd = (gcd1, gcd2, gcd3)\n",
    "        temp_li.append(gcd)\n",
    "        if len(temp_li) % key.shape[0] == 0:\n",
    "            if len(temp_li) == 0:\n",
    "                temp_li = []\n",
    "            else:\n",
    "                gcd_matrix.append(temp_li)\n",
    "                temp_li = []\n",
    "          \n",
    "    return gcd_matrix"
   ]
  },
  {
   "cell_type": "code",
   "execution_count": 12,
   "metadata": {},
   "outputs": [],
   "source": [
    "def get_sum_mod(gcd_matrix):\n",
    "    \n",
    "    sum_mod = []\n",
    "    sum_mod1 = []\n",
    "    \n",
    "    for i in range(len(gcd_matrix)):\n",
    "        temp_sum_mod1 = 0\n",
    "        temp_sum_mod2 = 0\n",
    "        temp_sum_mod3 = 0\n",
    "        \n",
    "        for j in range(len(gcd_matrix[i])):\n",
    "            if i == j:\n",
    "                continue\n",
    "                \n",
    "            temp_sum_mod1 += gcd_matrix[i][j][0]\n",
    "            temp_sum_mod2 += gcd_matrix[i][j][1]\n",
    "            temp_sum_mod3 += gcd_matrix[i][j][2]\n",
    "            \n",
    "#         temp_sum_mod = [temp_sum_mod1 % 256, temp_sum_mod2 % 256, temp_sum_mod3 % 256]\n",
    "        temp_sum_mod = [temp_sum_mod1 % img_arr.shape[0], temp_sum_mod2 % img_arr.shape[0], temp_sum_mod3 % img_arr.shape[0]]\n",
    "        sum_mod.append(temp_sum_mod)\n",
    "    \n",
    "        \n",
    "    for i in range(len(gcd_matrix[0])):\n",
    "        temp_sum_mod1 = 0\n",
    "        temp_sum_mod2 = 0\n",
    "        temp_sum_mod3 = 0\n",
    "        \n",
    "        for j in range(len(gcd_matrix)):\n",
    "            if i == j:\n",
    "                continue\n",
    "                \n",
    "            temp_sum_mod1 += gcd_matrix[j][i][0]\n",
    "            temp_sum_mod2 += gcd_matrix[j][i][1]\n",
    "            temp_sum_mod3 += gcd_matrix[j][i][2]\n",
    "            \n",
    "        temp_sum_mod = [temp_sum_mod1 % img_arr.shape[1], temp_sum_mod2 % img_arr.shape[1], temp_sum_mod3 % img_arr.shape[1]]\n",
    "        \n",
    "        sum_mod1.append(temp_sum_mod)\n",
    "        \n",
    "    return sum_mod, sum_mod1\n"
   ]
  },
  {
   "cell_type": "code",
   "execution_count": 13,
   "metadata": {},
   "outputs": [],
   "source": [
    "# def trans(sum_mod):\n",
    "    \n",
    "#     trans_mod = []\n",
    "    \n",
    "#     for i in range(len(sum_mod)):\n",
    "#         temp = []\n",
    "#         for j in range(len(sum_mod[i])):\n",
    "#             temp.append(sum_mod[i][j] % len(sum_mod))\n",
    "#         trans_mod.append(temp)\n",
    "# #     print(trans_mod[0])    \n",
    "#     dim1 = []\n",
    "#     dim2 = []\n",
    "#     dim3 = []\n",
    "    \n",
    "#     for i in range(len(trans_mod)):\n",
    "#         if trans_mod[i][0] not in dim1:\n",
    "#             dim1.append(trans_mod[i][0])\n",
    "        \n",
    "#         if trans_mod[i][0] in dim1:\n",
    "#             for j in range(trans_mod[i][0]+1, len(trans_mod)):\n",
    "#                 if j not in dim1:\n",
    "#                     dim1.append(j)\n",
    "#                     break\n",
    "                    \n",
    "#                 if j == len(trans_mod) - 1:\n",
    "#                     for k in range(0, trans_mod[i][0]):\n",
    "#                         if k not in dim1:\n",
    "#                             dim1.append(k)\n",
    "#                             break\n",
    "                            \n",
    "#         if trans_mod[i][1] not in dim2:\n",
    "#             dim2.append(trans_mod[i][1])\n",
    "            \n",
    "#         if trans_mod[i][1] in dim2:\n",
    "#             for j in range(trans_mod[i][1]+1, len(trans_mod)):\n",
    "#                 if j not in dim2:\n",
    "#                     dim2.append(j)\n",
    "#                     break\n",
    "#                 if j == len(trans_mod) - 1:\n",
    "#                     for k in range(0, trans_mod[i][1]):\n",
    "#                         if k not in dim2:\n",
    "#                             dim2.append(k)\n",
    "#                             break\n",
    "\n",
    "#         if trans_mod[i][2] not in dim3:\n",
    "#             dim3.append(trans_mod[i][2])\n",
    "            \n",
    "#         if trans_mod[i][2] in dim3:\n",
    "#             for j in range(trans_mod[i][2]+1, len(trans_mod)):\n",
    "#                 if j not in dim3:\n",
    "#                     dim3.append(j)\n",
    "#                     break\n",
    "                    \n",
    "#                 if j == len(trans_mod) - 1:\n",
    "#                     for k in range(0, trans_mod[i][2]):\n",
    "#                         if k not in dim3:\n",
    "#                             dim3.append(k)\n",
    "#                             break\n",
    "                            \n",
    "#     return dim1, dim2, dim3\n",
    "\n",
    "def trans(sum_mod, n):\n",
    "    \n",
    "    trans_mod = []\n",
    "    for i in range(len(sum_mod)):\n",
    "        temp = []\n",
    "        for j in range(len(sum_mod[i])):\n",
    "            temp.append(sum_mod[i][j] % len(sum_mod))\n",
    "        trans_mod.append(temp)\n",
    "        \n",
    "    dim1 = []\n",
    "    dim2 = []\n",
    "    dim3 = []\n",
    "#     print(len(sum_mod))\n",
    "    for i in range(len(trans_mod)):\n",
    "        if trans_mod[i][0] not in dim1:\n",
    "            dim1.append(trans_mod[i][0])\n",
    "        \n",
    "#         if trans_mod[i][0] in dim1:\n",
    "        else:\n",
    "            for j in range(trans_mod[i][0]+1, trans_mod[i][0] + n):\n",
    "                if (j%n) not in dim1:\n",
    "                    dim1.append(j%n)\n",
    "                    break\n",
    "#                 if j == len(trans_mod) - 1:\n",
    "#                     for k in range(0, trans_mod[i][0]):\n",
    "#                         if k not in dim1:\n",
    "#                             dim1.append(k)\n",
    "#                             break\n",
    "                            \n",
    "        if trans_mod[i][1] not in dim2:\n",
    "            dim2.append(trans_mod[i][1])\n",
    "            \n",
    "#         if trans_mod[i][1] in dim2:\n",
    "        else:\n",
    "            for j in range(trans_mod[i][1]+1, trans_mod[i][1] + n):\n",
    "                if (j%n) not in dim2:\n",
    "                    dim2.append(j%n)\n",
    "                    break\n",
    "#                 if j == len(trans_mod) - 1:\n",
    "#                     for k in range(0, trans_mod[i][1]):\n",
    "#                         if k not in dim2:\n",
    "#                             dim2.append(k)\n",
    "#                             break\n",
    "\n",
    "        if trans_mod[i][2] not in dim3:\n",
    "            dim3.append(trans_mod[i][2])\n",
    "            \n",
    "#         if trans_mod[i][2] in dim3:\n",
    "        else:\n",
    "\n",
    "            for j in range(trans_mod[i][2]+1, trans_mod[i][2] + n):\n",
    "                if (j%n) not in dim3:\n",
    "                    dim3.append(j%n)\n",
    "                    break\n",
    "#                 if j == len(trans_mod) -1:\n",
    "#                     for k in range(0, trans_mod[i][2]):\n",
    "#                         if k not in dim3:\n",
    "#                             dim3.append(k)\n",
    "#                             break\n",
    "                            \n",
    "    return dim1, dim2, dim3"
   ]
  },
  {
   "cell_type": "code",
   "execution_count": 14,
   "metadata": {},
   "outputs": [],
   "source": [
    "# def encrypt_trans(dim1, dim2, dim3, subs_cipher_img):\n",
    "    \n",
    "#     cipher_img = np.empty(subs_cipher_img.shape, dtype = 'uint8')\n",
    "    \n",
    "#     for i in range(subs_cipher_img.shape[0]):\n",
    "#         for j in range(len(dim1)):\n",
    "#             index = dim1[j] \n",
    "#             k = 0\n",
    "#             while index + k * len(dim1) < cipher_img.shape[1]:\n",
    "#                 cipher_img[i,j + k * len(dim1),0] = subs_cipher_img[i, index + len(dim1)*k, 0]\n",
    "#                 k += 1\n",
    "            \n",
    "#     for i in range(subs_cipher_img.shape[0]):\n",
    "#         for j in range(len(dim2)):\n",
    "#             index = dim2[j] \n",
    "#             k = 0\n",
    "#             while index + k * len(dim2) < cipher_img.shape[1]:\n",
    "#                 cipher_img[i,j + k * len(dim2),1] = subs_cipher_img[i, index + len(dim2)*k, 1]\n",
    "#                 k += 1\n",
    "\n",
    "#     for i in range(subs_cipher_img.shape[0]):\n",
    "#         for j in range(len(dim3)):\n",
    "#             index = dim3[j] \n",
    "#             k = 0\n",
    "#             while index + k * len(dim3) < cipher_img.shape[1]:\n",
    "#                 cipher_img[i,j + k * len(dim3),2] = subs_cipher_img[i, index + len(dim3) * k, 2]\n",
    "#                 k += 1\n",
    "            \n",
    "#     return cipher_img\n",
    "\n",
    "# def encrypt_trans(dim1, dim2, dim3, subs_cipher_img):\n",
    "    \n",
    "#     cipher_img = np.empty(subs_cipher_img.shape, dtype = 'uint8')\n",
    "    \n",
    "#     for i in range(subs_cipher_img.shape[0]):\n",
    "#         for a,b,c in zip(range(len(dim1)), range(len(dim2)), range(len(dim3))):\n",
    "#             index1 = dim1[a]\n",
    "#             index2 = dim2[b]\n",
    "#             index3 = dim3[c]\n",
    "            \n",
    "#             k = 0\n",
    "#             while index1 + k * len(dim1) < cipher_img.shape[1]:\n",
    "#                 cipher_img[i,a + k * len(dim1), 0] = subs_cipher_img[i, index1 + len(dim1)*k, 0]\n",
    "#                 k += 1\n",
    "                \n",
    "#             k = 0    \n",
    "#             while index2 + k * len(dim2) < cipher_img.shape[1]:\n",
    "#                 cipher_img[i,b + k * len(dim2), 1] = subs_cipher_img[i, index2 + len(dim2)*k, 1]\n",
    "#                 k += 1\n",
    "                \n",
    "#             k = 0\n",
    "#             while index3 + k * len(dim3) < cipher_img.shape[1]:\n",
    "#                 cipher_img[i,c + k * len(dim3), 2] = subs_cipher_img[i, index3 + len(dim3)*k, 2]\n",
    "#                 k += 1\n",
    "            \n",
    "#     return cipher_img\n",
    "\n",
    "def encrypt_trans(dim1, dim2, dim3, subs_cipher_img):\n",
    "    \n",
    "    cipher_img = np.empty(subs_cipher_img.shape, dtype = 'uint8')\n",
    "    \n",
    "    for i in range(subs_cipher_img.shape[0]):\n",
    "        for a,b,c in zip(range(len(dim1)), range(len(dim2)), range(len(dim3))):\n",
    "            index1 = dim1[a]\n",
    "            index2 = dim2[b]\n",
    "            index3 = dim3[c]\n",
    "            \n",
    "#             k = 0\n",
    "#             while index1 + k * len(dim1) < cipher_img.shape[1]:\n",
    "            cipher_img[i,a , 0] = subs_cipher_img[i, index1 , 0]\n",
    "#             cipher_img[a, i, 0] = subs_cipher_img[index1, i, 0]\n",
    "#                 k += 1\n",
    "                \n",
    "#             k = 0    \n",
    "#             while index2 + k * len(dim2) < cipher_img.shape[1]:\n",
    "            cipher_img[i,b , 1] = subs_cipher_img[i, index2 , 1]\n",
    "#             cipher_img[a, i, 1] = subs_cipher_img[index2, i, 1]\n",
    "#                 k += 1\n",
    "                \n",
    "#             k = 0\n",
    "#             while index3 + k * len(dim3) < cipher_img.shape[1]:\n",
    "#             print(index3)\n",
    "#             print(i, c, index3)\n",
    "            cipher_img[i,c , 2] = subs_cipher_img[i, index3, 2]\n",
    "#             cipher_img[a, i, 2] = subs_cipher_img[index3, i, 2]\n",
    "#                 k += 1\n",
    "            \n",
    "    return cipher_img"
   ]
  },
  {
   "cell_type": "code",
   "execution_count": 15,
   "metadata": {},
   "outputs": [],
   "source": [
    "# def encrypt_trans1(dim1, dim2, dim3, subs_cipher_img):\n",
    "    \n",
    "#     cipher_img = np.empty(subs_cipher_img.shape, dtype = 'uint8')\n",
    "#     print(len(dim1), len(dim2), len(dim3))\n",
    "#     for j in range(subs_cipher_img.shape[1]):\n",
    "#         for i in range(len(dim1)):\n",
    "#             index = dim1[i] \n",
    "#             k = 0\n",
    "#             while index + k * len(dim1) < cipher_img.shape[0]:\n",
    "#                 cipher_img[i + k * len(dim1),j,0] = subs_cipher_img[index + len(dim1)*k, j, 0]\n",
    "#                 k += 1\n",
    "            \n",
    "#     for j in range(subs_cipher_img.shape[1]):\n",
    "#         for i in range(len(dim2)):\n",
    "#             index = dim2[i] \n",
    "#             k = 0\n",
    "#             while index + k * len(dim2) < cipher_img.shape[0]:\n",
    "#                 cipher_img[i+ k * len(dim2),j,1] = subs_cipher_img[index + len(dim2)*k, j, 1]\n",
    "#                 k += 1\n",
    "\n",
    "#     for j in range(subs_cipher_img.shape[1]):\n",
    "#         for i in range(len(dim3)):\n",
    "#             index = dim3[i] \n",
    "#             k = 0\n",
    "#             while index + k * len(dim3) < cipher_img.shape[0]:\n",
    "#                 cipher_img[i+ k * len(dim3),j,2] = subs_cipher_img[index + len(dim3)*k, j, 2]\n",
    "#                 k += 1\n",
    "            \n",
    "#     return cipher_img\n",
    "\n",
    "# def encrypt_trans1(dim1, dim2, dim3, subs_cipher_img):\n",
    "    \n",
    "#     cipher_img = np.empty(subs_cipher_img.shape, dtype = 'uint8')\n",
    "    \n",
    "#     for j in range(subs_cipher_img.shape[1]):\n",
    "        \n",
    "#         for a,b,c in zip(range(len(dim1)), range(len(dim2)), range(len(dim3))):\n",
    "#             index1 = dim1[a] \n",
    "#             index2 = dim2[b]\n",
    "#             index3 = dim3[c]\n",
    "            \n",
    "#             k = 0\n",
    "#             while index1 + k * len(dim1) < cipher_img.shape[0]:\n",
    "#                 cipher_img[a + k * len(dim1),j, 0] = subs_cipher_img[index1 + len(dim1)*k, j, 0]\n",
    "#                 k += 1\n",
    "                \n",
    "#             k = 0\n",
    "#             while index2 + k * len(dim2) < cipher_img.shape[0]:\n",
    "# #                 print(index2, k)\n",
    "#                 cipher_img[b + k * len(dim2),j, 1] = subs_cipher_img[index2 + len(dim2)*k, j, 1]\n",
    "#                 k += 1\n",
    "                \n",
    "#             k = 0\n",
    "#             while index3 + k * len(dim3) < cipher_img.shape[0]:\n",
    "# #                 print(c + k * len(dim3))\n",
    "#                 cipher_img[c + k * len(dim3),j, 2] = subs_cipher_img[index3 + len(dim3)*k, j, 2]\n",
    "#                 k += 1\n",
    "            \n",
    "#     return cipher_img\n",
    "\n",
    "def encrypt_trans1(dim1, dim2, dim3, subs_cipher_img):\n",
    "    \n",
    "    cipher_img = np.empty(subs_cipher_img.shape, dtype = 'uint8')\n",
    "    \n",
    "    for j in range(subs_cipher_img.shape[1]):\n",
    "        \n",
    "        for a,b,c in zip(range(len(dim1)), range(len(dim2)), range(len(dim3))):\n",
    "            index1 = dim1[a] \n",
    "            index2 = dim2[b]\n",
    "            index3 = dim3[c]\n",
    "            \n",
    "#             k = 0\n",
    "#             while index1 + k * len(dim1) < cipher_img.shape[0]:\n",
    "            cipher_img[a,j, 0] = subs_cipher_img[index1, j, 0]\n",
    "#             cipher_img[j,a, 0] = subs_cipher_img[j, index1, 0]\n",
    "#                 k += 1\n",
    "                \n",
    "#             k = 0\n",
    "#             while index2 + k * len(dim2) < cipher_img.shape[0]:\n",
    "#                 print(index2, k)\n",
    "            cipher_img[b,j, 1] = subs_cipher_img[index2, j, 1]\n",
    "#             cipher_img[j,a, 1] = subs_cipher_img[j, index2, 1]\n",
    "#                 k += 1\n",
    "                \n",
    "#             k = 0\n",
    "#             while index3 + k * len(dim3) < cipher_img.shape[0]:\n",
    "#                 print(c + k * len(dim3))\n",
    "            cipher_img[c,j, 2] = subs_cipher_img[index3, j, 2]\n",
    "#             cipher_img[j,a, 2] = subs_cipher_img[j, index3, 1]\n",
    "#                 k += 1\n",
    "            \n",
    "    return cipher_img"
   ]
  },
  {
   "cell_type": "code",
   "execution_count": 16,
   "metadata": {},
   "outputs": [],
   "source": [
    "gcd_matrix = make_gcd_matrix(key)\n",
    "sum_mod, sum_mod1 = get_sum_mod(gcd_matrix)"
   ]
  },
  {
   "cell_type": "code",
   "execution_count": 17,
   "metadata": {},
   "outputs": [
    {
     "data": {
      "text/plain": [
       "733"
      ]
     },
     "execution_count": 17,
     "metadata": {},
     "output_type": "execute_result"
    }
   ],
   "source": [
    "len(gcd_matrix[0])"
   ]
  },
  {
   "cell_type": "code",
   "execution_count": 18,
   "metadata": {},
   "outputs": [
    {
     "data": {
      "text/plain": [
       "490"
      ]
     },
     "execution_count": 18,
     "metadata": {},
     "output_type": "execute_result"
    }
   ],
   "source": [
    "len(gcd_matrix)"
   ]
  },
  {
   "cell_type": "code",
   "execution_count": 19,
   "metadata": {},
   "outputs": [],
   "source": [
    "# g_m = np.array(gcd_matrix)"
   ]
  },
  {
   "cell_type": "code",
   "execution_count": 20,
   "metadata": {},
   "outputs": [],
   "source": [
    "# g_m.shape"
   ]
  },
  {
   "cell_type": "code",
   "execution_count": 21,
   "metadata": {},
   "outputs": [
    {
     "data": {
      "text/plain": [
       "3"
      ]
     },
     "execution_count": 21,
     "metadata": {},
     "output_type": "execute_result"
    }
   ],
   "source": [
    "len(sum_mod[0])"
   ]
  },
  {
   "cell_type": "code",
   "execution_count": 22,
   "metadata": {},
   "outputs": [
    {
     "data": {
      "text/plain": [
       "490"
      ]
     },
     "execution_count": 22,
     "metadata": {},
     "output_type": "execute_result"
    }
   ],
   "source": [
    "len(sum_mod)"
   ]
  },
  {
   "cell_type": "code",
   "execution_count": 23,
   "metadata": {},
   "outputs": [
    {
     "data": {
      "text/plain": [
       "733"
      ]
     },
     "execution_count": 23,
     "metadata": {},
     "output_type": "execute_result"
    }
   ],
   "source": [
    "img_arr.shape[0]"
   ]
  },
  {
   "cell_type": "code",
   "execution_count": 26,
   "metadata": {
    "scrolled": true
   },
   "outputs": [],
   "source": [
    "dim1h, dim2h, dim3h = trans(sum_mod, img_arr.shape[1])\n",
    "dim1v, dim2v, dim3v = trans(sum_mod1, img_arr.shape[0])\n",
    "cipher_img = img_arr.copy()\n",
    "# for _ in range(5):\n",
    "cipher_img = encrypt_trans(dim1h, dim2h, dim3h, cipher_img)\n",
    "# for _ in range(5):\n",
    "cipher_img = encrypt_trans1(dim1v, dim2v, dim3v, cipher_img)"
   ]
  },
  {
   "cell_type": "code",
   "execution_count": null,
   "metadata": {},
   "outputs": [],
   "source": [
    "dim3h[401]"
   ]
  },
  {
   "cell_type": "code",
   "execution_count": 25,
   "metadata": {},
   "outputs": [
    {
     "data": {
      "text/plain": [
       "733"
      ]
     },
     "execution_count": 25,
     "metadata": {},
     "output_type": "execute_result"
    }
   ],
   "source": [
    "len(dim1h)"
   ]
  },
  {
   "cell_type": "code",
   "execution_count": null,
   "metadata": {},
   "outputs": [],
   "source": [
    "len(np.unique(np.array(dim3h)))"
   ]
  },
  {
   "cell_type": "code",
   "execution_count": null,
   "metadata": {},
   "outputs": [],
   "source": [
    "# print(len(list(np.unique(np.array(dim1)))))"
   ]
  },
  {
   "cell_type": "code",
   "execution_count": null,
   "metadata": {},
   "outputs": [],
   "source": [
    "# dim1[0]"
   ]
  },
  {
   "cell_type": "code",
   "execution_count": 27,
   "metadata": {},
   "outputs": [
    {
     "data": {
      "text/plain": [
       "<matplotlib.image.AxesImage at 0x7f878020a650>"
      ]
     },
     "execution_count": 27,
     "metadata": {},
     "output_type": "execute_result"
    },
    {
     "data": {
      "image/png": "[encoded data removed]",
      "text/plain": [
       "<Figure size 432x288 with 1 Axes>"
      ]
     },
     "metadata": {
      "needs_background": "light"
     },
     "output_type": "display_data"
    }
   ],
   "source": [
    "imshow(cipher_img)"
   ]
  },
  {
   "cell_type": "code",
   "execution_count": null,
   "metadata": {},
   "outputs": [],
   "source": [
    "import matplotlib.pyplot as plt\n",
    "plt.hist(cipher_img.ravel(),256,[0,256]) \n",
    "# plt.savefig('images/lena/hist.jpg', dpi = 900, bbox_inches='tight')\n",
    "plt.show()"
   ]
  },
  {
   "cell_type": "code",
   "execution_count": null,
   "metadata": {},
   "outputs": [],
   "source": [
    "# def decrypt_trans1(dim1, dim2, dim3, cipher_img):\n",
    "        \n",
    "#     plain_img = np.empty(cipher_img.shape, dtype = 'uint8')\n",
    "    \n",
    "#     for j in range(cipher_img.shape[1]):\n",
    "#         for a,b,c in zip(range(len(dim1)), range(len(dim2)), range(len(dim3))):\n",
    "#             index1 = dim1[a]\n",
    "#             index2 = dim2[b]\n",
    "#             index3 = dim3[c]\n",
    "            \n",
    "#             k = 0\n",
    "#             while index1 + k * len(dim1) < cipher_img.shape[0]:\n",
    "#                 plain_img[index1 + k * len(dim1),j, 0] = cipher_img[a + k * len(dim1),j,0]\n",
    "#                 k += 1\n",
    "                \n",
    "#             k = 0\n",
    "#             while index2 + k * len(dim2) < cipher_img.shape[0]:\n",
    "#                 plain_img[index2 + k * len(dim2),j, 1] = cipher_img[b + k * len(dim2),j,1]\n",
    "#                 k += 1\n",
    "                \n",
    "#             k = 0\n",
    "#             while index3 + k * len(dim3) < cipher_img.shape[0]:\n",
    "#                 plain_img[index3 + k * len(dim3),j, 2] = cipher_img[c + k * len(dim3),j,2]\n",
    "#                 k += 1\n",
    "            \n",
    "#     return plain_img\n",
    "\n",
    "# def decrypt_trans1(dim1, dim2, dim3, cipher_img):\n",
    "        \n",
    "#     plain_img = np.empty(cipher_img.shape, dtype = 'uint8')\n",
    "    \n",
    "#     for j in range(cipher_img.shape[1]):\n",
    "#         for a,b,c in zip(range(len(dim1)), range(len(dim2)), range(len(dim3))):\n",
    "#             index1 = dim1[a]\n",
    "#             index2 = dim2[b]\n",
    "#             index3 = dim3[c]\n",
    "            \n",
    "# #             k = 0\n",
    "# #             while index1 + k * len(dim1) < cipher_img.shape[0]:\n",
    "#             plain_img[index1 + k * len(dim1),j, 0] = cipher_img[a + k * len(dim1),j,0]\n",
    "# #                 k += 1\n",
    "                \n",
    "# #             k = 0\n",
    "# #             while index2 + k * len(dim2) < cipher_img.shape[0]:\n",
    "#             plain_img[index2 + k * len(dim2),j, 1] = cipher_img[b + k * len(dim2),j,1]\n",
    "# #                 k += 1\n",
    "                \n",
    "# #             k = 0\n",
    "# #             while index3 + k * len(dim3) < cipher_img.shape[0]:\n",
    "#             plain_img[index3 + k * len(dim3),j, 2] = cipher_img[c + k * len(dim3),j,2]\n",
    "# #                 k += 1\n",
    "            \n",
    "#     return plain_img\n",
    "\n",
    "def decrypt_trans1(dim1, dim2, dim3, cipher_img):\n",
    "        \n",
    "    plain_img = np.empty(cipher_img.shape, dtype = 'uint8')\n",
    "    \n",
    "    for j in range(cipher_img.shape[1]):\n",
    "        for a,b,c in zip(range(len(dim1)), range(len(dim2)), range(len(dim3))):\n",
    "            index1 = dim1[a]\n",
    "            index2 = dim2[b]\n",
    "            index3 = dim3[c]\n",
    "            \n",
    "#             k = 0\n",
    "#             while index1 + k * len(dim1) < cipher_img.shape[0]:\n",
    "            plain_img[index1, j, 0] = cipher_img[a,j,0]\n",
    "#                 k += 1\n",
    "                \n",
    "#             k = 0\n",
    "#             while index2 + k * len(dim2) < cipher_img.shape[0]:\n",
    "            plain_img[index2, j, 1] = cipher_img[b,j,1]\n",
    "#                 k += 1\n",
    "                \n",
    "#             k = 0\n",
    "#             while index3 + k * len(dim3) < cipher_img.shape[0]:\n",
    "            plain_img[index3, j, 2] = cipher_img[c,j,2]\n",
    "#                 k += 1\n",
    "            \n",
    "    return plain_img"
   ]
  },
  {
   "cell_type": "code",
   "execution_count": null,
   "metadata": {},
   "outputs": [],
   "source": [
    "# def decrypt_trans(dim1, dim2, dim3, cipher_img):\n",
    "        \n",
    "#     plain_img = np.empty(cipher_img.shape, dtype = 'uint8')\n",
    "    \n",
    "#     for i in range(cipher_img.shape[0]):\n",
    "#         for a,b,c in zip(range(len(dim1)), range(len(dim2)), range(len(dim3))):\n",
    "#             index1 = dim1[a]\n",
    "#             index2 = dim2[b]\n",
    "#             index3 = dim3[c]\n",
    "            \n",
    "#             k = 0\n",
    "#             while index1 + k * len(dim1) < cipher_img.shape[1]:\n",
    "#                 plain_img[i, index1 + k * len(dim1), 0] = cipher_img[i,a + k * len(dim1),0]\n",
    "#                 k += 1\n",
    "            \n",
    "#             k = 0\n",
    "#             while index2 + k * len(dim2) < cipher_img.shape[1]:\n",
    "#                 plain_img[i, index2 + k * len(dim2), 1] = cipher_img[i,b + k * len(dim2),1]\n",
    "#                 k += 1\n",
    "                \n",
    "#             k = 0\n",
    "#             while index3 + k * len(dim3) < cipher_img.shape[1]:\n",
    "#                 plain_img[i, index3 + k * len(dim3), 2] = cipher_img[i,c + k * len(dim3),2]\n",
    "#                 k += 1\n",
    "            \n",
    "#     return plain_img\n",
    "\n",
    "# def decrypt_trans(dim1, dim2, dim3, cipher_img):\n",
    "        \n",
    "#     plain_img = np.empty(cipher_img.shape, dtype = 'uint8')\n",
    "    \n",
    "#     for i in range(cipher_img.shape[0]):\n",
    "#         for a,b,c in zip(range(len(dim1)), range(len(dim2)), range(len(dim3))):\n",
    "#             index1 = dim1[a]\n",
    "#             index2 = dim2[b]\n",
    "#             index3 = dim3[c]\n",
    "            \n",
    "#             k = 0\n",
    "#             while index1 + k * len(dim1) < cipher_img.shape[1]:\n",
    "#                 plain_img[i, index1 + k * len(dim1), 0] = cipher_img[i,a + k * len(dim1),0]\n",
    "#                 k += 1\n",
    "            \n",
    "#             k = 0\n",
    "#             while index2 + k * len(dim2) < cipher_img.shape[1]:\n",
    "#                 plain_img[i, index2 + k * len(dim2), 1] = cipher_img[i,b + k * len(dim2),1]\n",
    "#                 k += 1\n",
    "                \n",
    "#             k = 0\n",
    "#             while index3 + k * len(dim3) < cipher_img.shape[1]:\n",
    "#                 plain_img[i, index3 + k * len(dim3), 2] = cipher_img[i,c + k * len(dim3),2]\n",
    "#                 k += 1\n",
    "            \n",
    "#     return plain_img\n",
    "\n",
    "def decrypt_trans(dim1, dim2, dim3, cipher_img):\n",
    "        \n",
    "    plain_img = np.empty(cipher_img.shape, dtype = 'uint8')\n",
    "    \n",
    "    for i in range(cipher_img.shape[0]):\n",
    "        for a,b,c in zip(range(len(dim1)), range(len(dim2)), range(len(dim3))):\n",
    "            index1 = dim1[a]\n",
    "            index2 = dim2[b]\n",
    "            index3 = dim3[c]\n",
    "            \n",
    "#             k = 0\n",
    "#             while index1 + k * len(dim1) < cipher_img.shape[1]:\n",
    "            plain_img[i, index1, 0] = cipher_img[i,a, 0]\n",
    "#                 k += 1\n",
    "            \n",
    "#             k = 0\n",
    "#             while index2 + k * len(dim2) < cipher_img.shape[1]:\n",
    "            plain_img[i, index2, 1] = cipher_img[i,b, 1]\n",
    "#                 k += 1\n",
    "                \n",
    "#             k = 0\n",
    "#             while index3 + k * len(dim3) < cipher_img.shape[1]:\n",
    "            plain_img[i, index3, 2] = cipher_img[i,c, 2]\n",
    "#                 k += 1\n",
    "            \n",
    "    return plain_img"
   ]
  },
  {
   "cell_type": "code",
   "execution_count": null,
   "metadata": {},
   "outputs": [],
   "source": [
    "meta_key = get_meta_key(cipher_img)"
   ]
  },
  {
   "cell_type": "code",
   "execution_count": null,
   "metadata": {},
   "outputs": [],
   "source": [
    "meta_key"
   ]
  },
  {
   "cell_type": "code",
   "execution_count": null,
   "metadata": {},
   "outputs": [],
   "source": [
    "key = keygen(meta_key, 3.91, cipher_img.shape[0] * cipher_img.shape[1] * cipher_img.shape[2])\n",
    "key = np.array(key)\n",
    "key = np.reshape(key, (img_arr.shape[0], img_arr.shape[1], img_arr.shape[2]))\n",
    "gcd_matrix = make_gcd_matrix(key)\n",
    "sum_mod, sum_mod1 = get_sum_mod(gcd_matrix)\n",
    "dim1h, dim2h, dim3h = trans(sum_mod1, img_arr.shape[0])\n",
    "dim1v, dim2v, dim3v = trans(sum_mod, img_arr.shape[1])"
   ]
  },
  {
   "cell_type": "code",
   "execution_count": null,
   "metadata": {},
   "outputs": [],
   "source": [
    "plain_img_trans = cipher_img.copy()\n",
    "# for _ in range(5):\n",
    "plain_img_trans = decrypt_trans1(dim1v, dim2v, dim3v, plain_img_trans)\n",
    "# for _ in range(5):\n",
    "plain_img_trans = decrypt_trans(dim1h, dim2h, dim3h, plain_img_trans)"
   ]
  },
  {
   "cell_type": "code",
   "execution_count": null,
   "metadata": {},
   "outputs": [],
   "source": [
    "imshow(plain_img_trans)"
   ]
  },
  {
   "cell_type": "code",
   "execution_count": null,
   "metadata": {},
   "outputs": [],
   "source": [
    "imshow(img_arr - plain_img_trans)"
   ]
  },
  {
   "cell_type": "code",
   "execution_count": null,
   "metadata": {},
   "outputs": [],
   "source": [
    "diff = img_arr - plain_img_trans\n",
    "\n",
    "for i in range(img_arr.shape[0]):\n",
    "    for j in range(img_arr.shape[1]):\n",
    "        for k in range(img_arr.shape[2]):\n",
    "            if diff[i,j,k] != 0:\n",
    "                print(i,j,k)"
   ]
  },
  {
   "cell_type": "code",
   "execution_count": null,
   "metadata": {},
   "outputs": [],
   "source": []
  }
 ],
 "metadata": {
  "kernelspec": {
   "display_name": "Python 3",
   "language": "python",
   "name": "python3"
  },
  "language_info": {
   "codemirror_mode": {
    "name": "ipython",
    "version": 3
   },
   "file_extension": ".py",
   "mimetype": "text/x-python",
   "name": "python",
   "nbconvert_exporter": "python",
   "pygments_lexer": "ipython3",
   "version": "3.7.4"
  }
 },
 "nbformat": 4,
 "nbformat_minor": 2
}
