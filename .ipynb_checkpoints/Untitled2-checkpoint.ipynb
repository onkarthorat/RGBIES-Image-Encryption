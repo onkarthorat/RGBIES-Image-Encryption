{
 "cells": [
  {
   "cell_type": "code",
   "execution_count": 1,
   "metadata": {},
   "outputs": [],
   "source": [
    "import numpy as np\n",
    "import math\n",
    "import PIL\n",
    "from matplotlib.pyplot import imshow"
   ]
  },
  {
   "cell_type": "code",
   "execution_count": 2,
   "metadata": {},
   "outputs": [],
   "source": [
    "img = PIL.Image.open('lena.png', 'r')\n",
    "img_arr = np.array(img)"
   ]
  },
  {
   "cell_type": "code",
   "execution_count": 3,
   "metadata": {},
   "outputs": [
    {
     "data": {
      "text/plain": [
       "(256, 256, 3)"
      ]
     },
     "execution_count": 3,
     "metadata": {},
     "output_type": "execute_result"
    }
   ],
   "source": [
    "img_arr.shape"
   ]
  },
  {
   "cell_type": "code",
   "execution_count": 4,
   "metadata": {},
   "outputs": [],
   "source": [
    "import math\n",
    "def keygen(x, r, size):\n",
    "    key = []\n",
    "    for i in range(size):\n",
    "        x = x*r*(1-x)\n",
    "        key.append(int((x * math.pow(10,16))% 256))\n",
    "        \n",
    "    return key"
   ]
  },
  {
   "cell_type": "code",
   "execution_count": 5,
   "metadata": {},
   "outputs": [],
   "source": [
    "key = keygen(0.05, 3.93, img_arr.shape[0] * img_arr.shape[1] * img_arr.shape[2])"
   ]
  },
  {
   "cell_type": "code",
   "execution_count": 6,
   "metadata": {},
   "outputs": [],
   "source": [
    "key = np.array(key)\n",
    "key = np.reshape(key, (img_arr.shape[0], img_arr.shape[1], img_arr.shape[2]))"
   ]
  },
  {
   "cell_type": "code",
   "execution_count": 7,
   "metadata": {},
   "outputs": [
    {
     "data": {
      "text/plain": [
       "(256, 256, 3)"
      ]
     },
     "execution_count": 7,
     "metadata": {},
     "output_type": "execute_result"
    }
   ],
   "source": [
    "key.shape"
   ]
  },
  {
   "cell_type": "code",
   "execution_count": 8,
   "metadata": {},
   "outputs": [],
   "source": [
    "def decimalToBinary(n):\n",
    "    bin_n = bin(n).replace(\"0b\", \"\")\n",
    "    length = len(bin_n)\n",
    "    if length < 8:\n",
    "        zero_append = 8 - length\n",
    "        temp_0 = \"\"\n",
    "        for i in range(zero_append):\n",
    "            temp_0 += '0'\n",
    "            \n",
    "        bin_n = temp_0 + bin_n\n",
    "    \n",
    "    return bin_n"
   ]
  },
  {
   "cell_type": "code",
   "execution_count": 9,
   "metadata": {},
   "outputs": [
    {
     "data": {
      "text/plain": [
       "'11111111'"
      ]
     },
     "execution_count": 9,
     "metadata": {},
     "output_type": "execute_result"
    }
   ],
   "source": [
    "decimalToBinary(255)"
   ]
  },
  {
   "cell_type": "code",
   "execution_count": 10,
   "metadata": {},
   "outputs": [],
   "source": [
    "encoding_rule1 = {'00' : 'A', '11' : 'T', '01' : 'C', '10' : 'G'}\n",
    "encoding_rule2 = {'00' : 'A', '11' : 'T', '01' : 'G', '10' : 'C'}\n",
    "encoding_rule3 = {'00' : 'C', '11' : 'G', '01' : 'A', '10' : 'T'}\n",
    "encoding_rule4 = {'00' : 'G', '11' : 'C', '01' : 'A', '10' : 'T'}\n",
    "encoding_rule5 = {'10' : 'A', '01' : 'T', '00' : 'C', '11' : 'G'}\n",
    "encoding_rule6 = {'10' : 'A', '01' : 'T', '11' : 'C', '00' : 'G'}\n",
    "encoding_rule7 = {'11' : 'A', '00' : 'T', '01' : 'C', '10' : 'G'}\n",
    "encoding_rule8 = {'11' : 'A', '00' : 'T', '10' : 'C', '01' : 'G'}\n"
   ]
  },
  {
   "cell_type": "code",
   "execution_count": 11,
   "metadata": {},
   "outputs": [],
   "source": [
    "first_dim = []\n",
    "second_dim = []\n",
    "third_dim = []\n",
    "\n",
    "for i in range(key.shape[0]):\n",
    "    temp_li1 = []\n",
    "    temp_li2 = []\n",
    "    temp_li3 = []\n",
    "    \n",
    "    for j in range(key.shape[1]):\n",
    "        temp_li1.append(decimalToBinary(key[i,j,0]))\n",
    "        temp_li2.append(decimalToBinary(key[i,j,1]))\n",
    "        temp_li3.append(decimalToBinary(key[i,j,2]))\n",
    "        \n",
    "    first_dim.append(temp_li1)\n",
    "    second_dim.append(temp_li2)\n",
    "    third_dim.append(temp_li3)\n",
    "    "
   ]
  },
  {
   "cell_type": "code",
   "execution_count": 12,
   "metadata": {},
   "outputs": [
    {
     "data": {
      "text/plain": [
       "'01'"
      ]
     },
     "execution_count": 12,
     "metadata": {},
     "output_type": "execute_result"
    }
   ],
   "source": [
    "first_dim[0][89][:2] # first two"
   ]
  },
  {
   "cell_type": "code",
   "execution_count": 13,
   "metadata": {},
   "outputs": [
    {
     "data": {
      "text/plain": [
       "'00'"
      ]
     },
     "execution_count": 13,
     "metadata": {},
     "output_type": "execute_result"
    }
   ],
   "source": [
    "first_dim[0][89][6:]"
   ]
  },
  {
   "cell_type": "code",
   "execution_count": 14,
   "metadata": {},
   "outputs": [],
   "source": [
    "mat = np.empty(img_arr.shape)\n",
    "\n",
    "for i in range(img_arr.shape[0]):\n",
    "    for j in range(img_arr.shape[1]):\n",
    "        \n",
    "        last2_current = first_dim[i][j][6:]\n",
    "        first2_next = first_dim[i][(j+1)%img_arr.shape[1]][:2]\n",
    "        \n",
    "        if (encoding_rule1[last2_current] == 'A' and encoding_rule1[first2_next] == 'T'):\n",
    "            mat[i][j][0] = 1\n",
    "        elif (encoding_rule1[last2_current] == 'T' and encoding_rule1[first2_next] == 'A'):\n",
    "            mat[i][j][0] = 1\n",
    "        elif (encoding_rule1[last2_current] == 'C' and encoding_rule1[first2_next] == 'G'):\n",
    "            mat[i][j][0] = 1\n",
    "        elif (encoding_rule1[last2_current] == 'G' and encoding_rule1[first2_next] == 'C'):\n",
    "            mat[i][j][0] = 1\n",
    "        else:\n",
    "            mat[i][j][0] = 0\n",
    "            \n",
    "for i in range(img_arr.shape[0]):\n",
    "    for j in range(img_arr.shape[1]):\n",
    "        \n",
    "        last2_current = second_dim[i][j][6:]\n",
    "        first2_next = second_dim[i][(j+1)%img_arr.shape[1] ][:2]\n",
    "        \n",
    "        if (encoding_rule1[last2_current] == 'A' and encoding_rule1[first2_next] == 'T'):\n",
    "            mat[i][j][1] = 1\n",
    "        elif (encoding_rule1[last2_current] == 'T' and encoding_rule1[first2_next] == 'A'):\n",
    "            mat[i][j][1] = 1\n",
    "        elif (encoding_rule1[last2_current] == 'C' and encoding_rule1[first2_next] == 'G'):\n",
    "            mat[i][j][1] = 1\n",
    "        elif (encoding_rule1[last2_current] == 'G' and encoding_rule1[first2_next] == 'C'):\n",
    "            mat[i][j][1] = 1\n",
    "        else:\n",
    "            mat[i][j][1] = 0\n",
    "            \n",
    "for i in range(img_arr.shape[0]):\n",
    "    for j in range(img_arr.shape[1]):\n",
    "        \n",
    "        last2_current = third_dim[i][j][6:]\n",
    "        first2_next = third_dim[i][(j+1)%img_arr.shape[1] ][:2]\n",
    "        \n",
    "        if (encoding_rule1[last2_current] == 'A' and encoding_rule1[first2_next] == 'T'):\n",
    "            mat[i][j][2] = 1\n",
    "        elif (encoding_rule1[last2_current] == 'T' and encoding_rule1[first2_next] == 'A'):\n",
    "            mat[i][j][2] = 1\n",
    "        elif (encoding_rule1[last2_current] == 'C' and encoding_rule1[first2_next] == 'G'):\n",
    "            mat[i][j][2] = 1\n",
    "        elif (encoding_rule1[last2_current] == 'G' and encoding_rule1[first2_next] == 'C'):\n",
    "            mat[i][j][2] = 1\n",
    "        else:\n",
    "            mat[i][j][2] = 0"
   ]
  },
  {
   "cell_type": "code",
   "execution_count": 15,
   "metadata": {},
   "outputs": [
    {
     "data": {
      "text/plain": [
       "0.0"
      ]
     },
     "execution_count": 15,
     "metadata": {},
     "output_type": "execute_result"
    }
   ],
   "source": [
    "mat[0,0,0]"
   ]
  },
  {
   "cell_type": "code",
   "execution_count": 21,
   "metadata": {},
   "outputs": [],
   "source": [
    "temp1 = 0\n",
    "temp2 = 0\n",
    "temp3 = 0\n",
    "\n",
    "for i in range(img_arr.shape[0]):\n",
    "    for j in range(img_arr.shape[1]):\n",
    "        temp1 += mat[i,j,0]\n",
    "        temp2 += mat[i,j,1]\n",
    "        temp3 += mat[i,j,2]\n",
    "        "
   ]
  },
  {
   "cell_type": "code",
   "execution_count": 25,
   "metadata": {},
   "outputs": [],
   "source": [
    "temp1 = temp1 % 256\n",
    "temp2 = temp2 % 256\n",
    "temp3 = temp3 % 256"
   ]
  },
  {
   "cell_type": "code",
   "execution_count": 26,
   "metadata": {},
   "outputs": [
    {
     "data": {
      "text/plain": [
       "213.0"
      ]
     },
     "execution_count": 26,
     "metadata": {},
     "output_type": "execute_result"
    }
   ],
   "source": [
    "temp1"
   ]
  },
  {
   "cell_type": "code",
   "execution_count": 27,
   "metadata": {},
   "outputs": [
    {
     "data": {
      "text/plain": [
       "10.0"
      ]
     },
     "execution_count": 27,
     "metadata": {},
     "output_type": "execute_result"
    }
   ],
   "source": [
    "temp2"
   ]
  },
  {
   "cell_type": "code",
   "execution_count": 28,
   "metadata": {},
   "outputs": [
    {
     "data": {
      "text/plain": [
       "119.0"
      ]
     },
     "execution_count": 28,
     "metadata": {},
     "output_type": "execute_result"
    }
   ],
   "source": [
    "temp3"
   ]
  },
  {
   "cell_type": "code",
   "execution_count": 29,
   "metadata": {},
   "outputs": [],
   "source": [
    "temp1 = temp1 / 255\n",
    "temp2 = temp2 / 255\n",
    "temp3 = temp3 / 255"
   ]
  },
  {
   "cell_type": "code",
   "execution_count": 30,
   "metadata": {},
   "outputs": [
    {
     "data": {
      "text/plain": [
       "0.8352941176470589"
      ]
     },
     "execution_count": 30,
     "metadata": {},
     "output_type": "execute_result"
    }
   ],
   "source": [
    "temp1"
   ]
  },
  {
   "cell_type": "code",
   "execution_count": 31,
   "metadata": {},
   "outputs": [
    {
     "data": {
      "text/plain": [
       "0.0392156862745098"
      ]
     },
     "execution_count": 31,
     "metadata": {},
     "output_type": "execute_result"
    }
   ],
   "source": [
    "temp2"
   ]
  },
  {
   "cell_type": "code",
   "execution_count": 32,
   "metadata": {},
   "outputs": [
    {
     "data": {
      "text/plain": [
       "0.4666666666666667"
      ]
     },
     "execution_count": 32,
     "metadata": {},
     "output_type": "execute_result"
    }
   ],
   "source": [
    "temp3"
   ]
  },
  {
   "cell_type": "code",
   "execution_count": 33,
   "metadata": {},
   "outputs": [],
   "source": [
    "def Lorenzkey(x0, y0, z0, num_steps):\n",
    "    \n",
    "    dt = 0.01\n",
    "    xs = np.empty(num_steps + 1)\n",
    "    ys = np.empty(num_steps + 1)\n",
    "    zs = np.empty(num_steps + 1)\n",
    "    xs[0], ys[0], zs[0] = x0, y0, z0\n",
    "    \n",
    "    s = 10\n",
    "    r = 28\n",
    "    b = 2.667\n",
    "    for i in range(num_steps):\n",
    "        xs[i+1] = (xs[i] + (s * ys[i] -xs[i] * dt)) % 256\n",
    "        ys[i+1] = (ys[i] + ((xs[i] * (r - zs[i]) - ys[i]) * dt)) % 256\n",
    "        zs[i+1] = (zs[i] + ((xs[i] * ys[i] - b * zs[i]) * dt)) % 256\n",
    "        \n",
    "    return xs, ys, zs"
   ]
  },
  {
   "cell_type": "code",
   "execution_count": 34,
   "metadata": {},
   "outputs": [
    {
     "data": {
      "text/plain": [
       "(65536,)"
      ]
     },
     "execution_count": 34,
     "metadata": {},
     "output_type": "execute_result"
    }
   ],
   "source": [
    "xkey, ykey, zkey = Lorenzkey(temp1, temp2, temp3, 256*256)\n",
    "xkey, ykey, zkey = xkey[1:], ykey[1:], zkey[1:]\n",
    "xkey.shape"
   ]
  },
  {
   "cell_type": "code",
   "execution_count": null,
   "metadata": {},
   "outputs": [],
   "source": []
  }
 ],
 "metadata": {
  "kernelspec": {
   "display_name": "Python 3",
   "language": "python",
   "name": "python3"
  },
  "language_info": {
   "codemirror_mode": {
    "name": "ipython",
    "version": 3
   },
   "file_extension": ".py",
   "mimetype": "text/x-python",
   "name": "python",
   "nbconvert_exporter": "python",
   "pygments_lexer": "ipython3",
   "version": "3.7.4"
  }
 },
 "nbformat": 4,
 "nbformat_minor": 2
}
