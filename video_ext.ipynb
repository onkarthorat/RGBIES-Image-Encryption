{
 "cells": [
  {
   "cell_type": "code",
   "execution_count": 1,
   "metadata": {},
   "outputs": [],
   "source": [
    "import numpy as np\n",
    "import math\n",
    "import PIL\n",
    "from matplotlib.pyplot import imshow"
   ]
  },
  {
   "cell_type": "code",
   "execution_count": 2,
   "metadata": {},
   "outputs": [],
   "source": [
    "import cv2\n",
    "cap = cv2.VideoCapture('video1.mp4')"
   ]
  },
  {
   "cell_type": "code",
   "execution_count": 3,
   "metadata": {},
   "outputs": [
    {
     "data": {
      "text/plain": [
       "<VideoCapture 0x7f91db231830>"
      ]
     },
     "execution_count": 3,
     "metadata": {},
     "output_type": "execute_result"
    }
   ],
   "source": [
    "cap"
   ]
  },
  {
   "cell_type": "code",
   "execution_count": null,
   "metadata": {},
   "outputs": [],
   "source": [
    "img = PIL.Image.open('lena.png', 'r')\n",
    "key_img = PIL.Image.open('key1.2.jpg', 'r')"
   ]
  },
  {
   "cell_type": "code",
   "execution_count": null,
   "metadata": {},
   "outputs": [],
   "source": [
    "key_img"
   ]
  },
  {
   "cell_type": "code",
   "execution_count": null,
   "metadata": {},
   "outputs": [],
   "source": [
    "img_arr = np.asarray(img)\n",
    "img_arr.shape"
   ]
  },
  {
   "cell_type": "code",
   "execution_count": null,
   "metadata": {},
   "outputs": [],
   "source": [
    "key_img_arr = np.asarray(key_img)"
   ]
  },
  {
   "cell_type": "code",
   "execution_count": null,
   "metadata": {},
   "outputs": [],
   "source": [
    "pix_val = list(img.getdata())"
   ]
  },
  {
   "cell_type": "code",
   "execution_count": null,
   "metadata": {},
   "outputs": [],
   "source": [
    "pix_val_key = list(key_img.getdata())"
   ]
  },
  {
   "cell_type": "code",
   "execution_count": null,
   "metadata": {},
   "outputs": [],
   "source": [
    "def make_gcd_matrix(key_img):\n",
    "    \n",
    "    pix_val_key = list(key_img.getdata())\n",
    "    \n",
    "    rows = key_img.size[0]\n",
    "    cols = key_img.size[1]\n",
    "    \n",
    "    gcd_matrix = []\n",
    "    sum_mod = []\n",
    "    temp_li = []\n",
    "    for pix_val in pix_val_key:\n",
    "        gcd1 = math.gcd(pix_val[0], pix_val[1])\n",
    "        gcd2 = math.gcd(pix_val[1], pix_val[2])\n",
    "        gcd3 = math.gcd(pix_val[2], pix_val[0])\n",
    "        gcd = (gcd1, gcd2, gcd3)\n",
    "        temp_li.append(gcd)\n",
    "        if len(temp_li) % key_img.size[0] == 0:\n",
    "            if len(temp_li) == 0:\n",
    "                temp_li = []\n",
    "            else:\n",
    "                gcd_matrix.append(temp_li)\n",
    "                temp_li = []\n",
    "          \n",
    "    for i in range(len(gcd_matrix)):\n",
    "        temp_sum_mod1 = 0\n",
    "        temp_sum_mod2 = 0\n",
    "        temp_sum_mod3 = 0\n",
    "        for j in range(len(gcd_matrix[i])):\n",
    "            if i == j:\n",
    "                continue\n",
    "            temp_sum_mod1 += gcd_matrix[i][j][0]\n",
    "            temp_sum_mod2 += gcd_matrix[i][j][1]\n",
    "            temp_sum_mod3 += gcd_matrix[i][j][2]\n",
    "            \n",
    "        temp_sum_mod = [temp_sum_mod1 % 256, temp_sum_mod2 % 256, temp_sum_mod3 % 256]\n",
    "        \n",
    "        sum_mod.append(temp_sum_mod)\n",
    "    return sum_mod"
   ]
  },
  {
   "cell_type": "code",
   "execution_count": null,
   "metadata": {},
   "outputs": [],
   "source": [
    "def make_matrix_table(sum_mod):\n",
    "    dict_matrix_table = {}\n",
    "    temp_list = [[i,i,i] for i in range(256)]\n",
    "    \n",
    "    for i in range(256):\n",
    "        for k in range(len(temp_list)):\n",
    "            for j in range(3):\n",
    "                temp_list[k][j] += sum_mod[i % len(sum_mod)][j]\n",
    "                temp_list[k][j] = temp_list[k][j] % len(temp_list)\n",
    "   \n",
    "        dict_matrix_table[i] = {}\n",
    "        l = 0\n",
    "        for j in temp_list:\n",
    "            dict_matrix_table[i][l] = j\n",
    "            l += 1\n",
    "            \n",
    "    return dict_matrix_table"
   ]
  },
  {
   "cell_type": "code",
   "execution_count": null,
   "metadata": {},
   "outputs": [],
   "source": [
    "def pad_image(img, key):\n",
    "    \n",
    "    img_dim = img.size\n",
    "    key_dim = key.size\n",
    "    print(img_dim)\n",
    "    print(key_dim)\n",
    "    img_arr = np.asarray(img)\n",
    "    pad_size_width = img_dim[0] % key_dim[0]\n",
    "    pad_size_height = img_dim[1] % key_dim[1]\n",
    "    \n",
    "    if pad_size_width != 0 or pad_size_height != 0:\n",
    "        arr_width = np.zeros((img_dim[1], key_dim[0]-pad_size_width, 3), dtype = 'uint8')\n",
    "        arr_height = np.zeros((key_dim[1] - pad_size_height, (img_dim[0] + key_dim[0] - pad_size_width), 3), dtype = 'uint8')\n",
    "        padded_img = np.concatenate((img_arr, arr_width), axis = 1)\n",
    "        padded_img = np.concatenate((padded_img, arr_height), axis = 0)      \n",
    "        return padded_img\n",
    "    else:\n",
    "        return np.asarray(img)"
   ]
  },
  {
   "cell_type": "code",
   "execution_count": null,
   "metadata": {},
   "outputs": [],
   "source": [
    "sum_mod = make_gcd_matrix(key_img)"
   ]
  },
  {
   "cell_type": "code",
   "execution_count": null,
   "metadata": {},
   "outputs": [],
   "source": [
    "dict_matrix_table = make_matrix_table(sum_mod)"
   ]
  },
  {
   "cell_type": "code",
   "execution_count": null,
   "metadata": {},
   "outputs": [],
   "source": [
    "padded_img = pad_image(img, key_img)"
   ]
  },
  {
   "cell_type": "code",
   "execution_count": null,
   "metadata": {},
   "outputs": [],
   "source": [
    "def encrypt_img(padded_img, key):\n",
    "\n",
    "    key_dim = key.size\n",
    "    cipher_img = np.empty(padded_img.shape, dtype = 'uint8')\n",
    "    \n",
    "    for i in range(padded_img.shape[0]):\n",
    "        for j in range(padded_img.shape[1]):\n",
    "            dict_key = padded_img[i%key_dim[0],j%key_dim[1]]\n",
    "            for k in range(3):\n",
    "                cipher_img[i][j][k] = dict_matrix_table[dict_key[k]][padded_img[i,j,k]][k]\n",
    "                \n",
    "    return cipher_img"
   ]
  },
  {
   "cell_type": "code",
   "execution_count": null,
   "metadata": {},
   "outputs": [],
   "source": [
    "def trans(sum_mod):\n",
    "    trans_mod = []\n",
    "    for i in range(len(sum_mod)):\n",
    "        temp = []\n",
    "        for j in range(len(sum_mod[i])):\n",
    "            temp.append(sum_mod[i][j] % len(sum_mod))\n",
    "        trans_mod.append(temp)\n",
    "    dim1 = []\n",
    "    dim2 = []\n",
    "    dim3 = []\n",
    "    for i in range(len(trans_mod)):\n",
    "        if trans_mod[i][0] not in dim1:\n",
    "            dim1.append(trans_mod[i][0])\n",
    "        \n",
    "        if trans_mod[i][0] in dim1:\n",
    "            for j in range(trans_mod[i][0]+1, len(trans_mod)):\n",
    "                if j not in dim1:\n",
    "                    dim1.append(j)\n",
    "                    break\n",
    "                if j == len(trans_mod) -1:\n",
    "                    for k in range(0, trans_mod[i][0]):\n",
    "                        if k not in dim1:\n",
    "                            dim1.append(k)\n",
    "                            break\n",
    "                            \n",
    "        if trans_mod[i][1] not in dim2:\n",
    "            dim2.append(trans_mod[i][1])\n",
    "            \n",
    "        if trans_mod[i][1] in dim1:\n",
    "            for j in range(trans_mod[i][1]+1, len(trans_mod)):\n",
    "                if j not in dim2:\n",
    "                    dim2.append(j)\n",
    "                    break\n",
    "                if j == len(trans_mod) -1:\n",
    "                    for k in range(0, trans_mod[i][1]):\n",
    "                        if k not in dim2:\n",
    "                            dim2.append(k)\n",
    "                            break\n",
    "\n",
    "        if trans_mod[i][2] not in dim3:\n",
    "            dim3.append(trans_mod[i][2])\n",
    "            \n",
    "        if trans_mod[i][2] in dim3:\n",
    "            for j in range(trans_mod[i][2]+1, len(trans_mod)):\n",
    "                if j not in dim3:\n",
    "                    dim3.append(j)\n",
    "                    break\n",
    "                if j == len(trans_mod) -1:\n",
    "                    for k in range(0, trans_mod[i][2]):\n",
    "                        if k not in dim3:\n",
    "                            dim3.append(k)\n",
    "                            break\n",
    "                            \n",
    "    return dim1, dim2, dim3"
   ]
  },
  {
   "cell_type": "code",
   "execution_count": null,
   "metadata": {},
   "outputs": [],
   "source": [
    "dim1, dim2, dim3 = trans(sum_mod)"
   ]
  },
  {
   "cell_type": "code",
   "execution_count": null,
   "metadata": {},
   "outputs": [],
   "source": [
    "def encrypt_trans(dim1, dim2, dim3, subs_cipher_img):\n",
    "    \n",
    "    cipher_img = np.empty(subs_cipher_img.shape, dtype = 'uint8')\n",
    "    \n",
    "    for i in range(subs_cipher_img.shape[0]):\n",
    "        for j in range(len(dim1)):\n",
    "            index = dim1[j] \n",
    "            k = 0\n",
    "            while index + k * len(dim1) < cipher_img.shape[1]:\n",
    "                cipher_img[i,j + k * len(dim1),0] = subs_cipher_img[i, index + len(dim1)*k, 0]\n",
    "                k += 1\n",
    "            \n",
    "    for i in range(subs_cipher_img.shape[0]):\n",
    "        for j in range(len(dim2)):\n",
    "            index = dim2[j] \n",
    "            k = 0\n",
    "            while index + k * len(dim2) < cipher_img.shape[1]:\n",
    "                cipher_img[i,j + k * len(dim2),1] = subs_cipher_img[i, index + len(dim2)*k, 1]\n",
    "                k += 1\n",
    "\n",
    "    for i in range(subs_cipher_img.shape[0]):\n",
    "        for j in range(len(dim3)):\n",
    "            index = dim3[j] \n",
    "            k = 0\n",
    "            while index + k * len(dim3) < cipher_img.shape[1]:\n",
    "                cipher_img[i,j + k * len(dim3),2] = subs_cipher_img[i, index + len(dim3)*k, 2]\n",
    "                k += 1\n",
    "            \n",
    "    return cipher_img"
   ]
  },
  {
   "cell_type": "code",
   "execution_count": null,
   "metadata": {},
   "outputs": [],
   "source": [
    "def encrypt_trans1(dim1, dim2, dim3, subs_cipher_img):\n",
    "    \n",
    "    cipher_img = np.empty(subs_cipher_img.shape, dtype = 'uint8')\n",
    "    \n",
    "    for j in range(subs_cipher_img.shape[1]):\n",
    "        for i in range(len(dim1)):\n",
    "            index = dim1[i] \n",
    "            k = 0\n",
    "            while index + k * len(dim1) < cipher_img.shape[0]:\n",
    "                cipher_img[i + k * len(dim1),j,0] = subs_cipher_img[index + len(dim1)*k, j, 0]\n",
    "                k += 1\n",
    "            \n",
    "    for j in range(subs_cipher_img.shape[1]):\n",
    "        for i in range(len(dim2)):\n",
    "            index = dim2[i] \n",
    "            k = 0\n",
    "            while index + k * len(dim2) < cipher_img.shape[0]:\n",
    "                cipher_img[i+ k * len(dim2),j,1] = subs_cipher_img[index + len(dim2)*k, j, 1]\n",
    "                k += 1\n",
    "\n",
    "    for j in range(subs_cipher_img.shape[1]):\n",
    "        for i in range(len(dim3)):\n",
    "            index = dim3[i] \n",
    "            k = 0\n",
    "            while index + k * len(dim3) < cipher_img.shape[0]:\n",
    "                cipher_img[i+ k * len(dim3),j,2] = subs_cipher_img[index + len(dim3)*k, j, 2]\n",
    "                k += 1\n",
    "            \n",
    "    return cipher_img"
   ]
  },
  {
   "cell_type": "code",
   "execution_count": null,
   "metadata": {},
   "outputs": [],
   "source": [
    "def decrypt_trans1(dim1, dim2, dim3, cipher_img):\n",
    "        \n",
    "    plain_img = np.empty(cipher_img.shape, dtype = 'uint8')\n",
    "    \n",
    "    for j in range(cipher_img.shape[1]):\n",
    "        for i in range(len(dim1)):\n",
    "#             current = cipher_img[i,j,0]\n",
    "            index = dim1[i]\n",
    "            k = 0\n",
    "            while index + k * len(dim1) < cipher_img.shape[0]:\n",
    "                plain_img[index + k * len(dim1),j, 0] = cipher_img[i + k * len(dim1),j,0]\n",
    "                k += 1\n",
    "        \n",
    "    for j in range(cipher_img.shape[1]):\n",
    "        for i in range(len(dim2)):\n",
    "            index = dim2[i]\n",
    "            k = 0\n",
    "            while index + k * len(dim2) < cipher_img.shape[0]:\n",
    "                plain_img[index + k * len(dim2),j, 1] = cipher_img[i + k * len(dim2),j,1]\n",
    "                k += 1\n",
    "                \n",
    "    for j in range(cipher_img.shape[1]):\n",
    "        for i in range(len(dim3)):\n",
    "            index = dim3[i]\n",
    "            k = 0\n",
    "            while index + k * len(dim3) < cipher_img.shape[1]:\n",
    "                plain_img[index + k * len(dim3),j, 2] = cipher_img[i + k * len(dim3),j,2]\n",
    "                k += 1\n",
    "            \n",
    "    return plain_img"
   ]
  },
  {
   "cell_type": "code",
   "execution_count": null,
   "metadata": {},
   "outputs": [],
   "source": [
    "def decrypt_trans(dim1, dim2, dim3, cipher_img):\n",
    "        \n",
    "    plain_img = np.empty(cipher_img.shape, dtype = 'uint8')\n",
    "    \n",
    "    for i in range(cipher_img.shape[0]):\n",
    "        for j in range(len(dim1)):\n",
    "#             current = cipher_img[i,j,0]\n",
    "            index = dim1[j]\n",
    "            k = 0\n",
    "            while index + k * len(dim1) < cipher_img.shape[1]:\n",
    "                plain_img[i,index + k * len(dim1), 0] = cipher_img[i,j + k * len(dim1),0]\n",
    "                k += 1\n",
    "        \n",
    "    for i in range(cipher_img.shape[0]):\n",
    "        for j in range(len(dim2)):\n",
    "            index = dim2[j]\n",
    "            k = 0\n",
    "            while index + k * len(dim2) < cipher_img.shape[1]:\n",
    "                plain_img[i,index + k * len(dim2), 1] = cipher_img[i,j + k * len(dim2),1]\n",
    "                k += 1\n",
    "                \n",
    "    for i in range(cipher_img.shape[0]):\n",
    "        for j in range(len(dim3)):\n",
    "            index = dim3[j]\n",
    "            k = 0\n",
    "            while index + k * len(dim3) < cipher_img.shape[1]:\n",
    "                plain_img[i,index + k * len(dim3), 2] = cipher_img[i,j + k * len(dim3),2]\n",
    "                k += 1\n",
    "            \n",
    "    return plain_img"
   ]
  },
  {
   "cell_type": "code",
   "execution_count": null,
   "metadata": {},
   "outputs": [],
   "source": [
    "def decrypt_subs(cipher_img, key_img):\n",
    "    \n",
    "    sum_mod = make_gcd_matrix(key_img)\n",
    "    dict_matrix_table = make_matrix_table(sum_mod)\n",
    "\n",
    "    key_dim = key_img.size\n",
    "    plain_img = np.empty(padded_img.shape, dtype = 'uint8')\n",
    "    \n",
    "    for i in range(cipher_img.shape[0]):\n",
    "        for j in range(cipher_img.shape[1]):\n",
    "            dict_key = cipher_img[i%key_dim[0],j%key_dim[1]]\n",
    "            for k in range(3):\n",
    "#                 ind = dict_matrix_table[dict_key[k]]\n",
    "                for l in range(len(dict_matrix_table[dict_key[k]])):\n",
    "                    if dict_matrix_table[dict_key[k]][l][k] == cipher_img[i,j,k]:\n",
    "                        plain_img[i,j,k] = l\n",
    "                        break\n",
    "#         print(i)\n",
    "                        \n",
    "    return plain_img"
   ]
  }
 ],
 "metadata": {
  "kernelspec": {
   "display_name": "Python 3",
   "language": "python",
   "name": "python3"
  },
  "language_info": {
   "codemirror_mode": {
    "name": "ipython",
    "version": 3
   },
   "file_extension": ".py",
   "mimetype": "text/x-python",
   "name": "python",
   "nbconvert_exporter": "python",
   "pygments_lexer": "ipython3",
   "version": "3.7.4"
  }
 },
 "nbformat": 4,
 "nbformat_minor": 2
}
