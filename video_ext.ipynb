{
 "cells": [
  {
   "cell_type": "code",
   "execution_count": 1,
   "metadata": {},
   "outputs": [],
   "source": [
    "import numpy as np\n",
    "import math\n",
    "import PIL\n",
    "from matplotlib.pyplot import imshow"
   ]
  },
  {
   "cell_type": "code",
   "execution_count": 36,
   "metadata": {},
   "outputs": [],
   "source": [
    "import cv2\n",
    "cap = cv2.VideoCapture('video1.mp4')"
   ]
  },
  {
   "cell_type": "code",
   "execution_count": 37,
   "metadata": {},
   "outputs": [
    {
     "data": {
      "text/plain": [
       "True"
      ]
     },
     "execution_count": 37,
     "metadata": {},
     "output_type": "execute_result"
    }
   ],
   "source": [
    "cap.isOpened() == True"
   ]
  },
  {
   "cell_type": "code",
   "execution_count": 4,
   "metadata": {},
   "outputs": [],
   "source": [
    "fps = cap.get(cv2.CAP_PROP_FPS)"
   ]
  },
  {
   "cell_type": "code",
   "execution_count": 5,
   "metadata": {},
   "outputs": [
    {
     "data": {
      "text/plain": [
       "233.0"
      ]
     },
     "execution_count": 5,
     "metadata": {},
     "output_type": "execute_result"
    }
   ],
   "source": [
    "cap.get(cv2.CAP_PROP_FRAME_COUNT)"
   ]
  },
  {
   "cell_type": "code",
   "execution_count": 6,
   "metadata": {},
   "outputs": [],
   "source": [
    "time1 = 233/fps"
   ]
  },
  {
   "cell_type": "code",
   "execution_count": 7,
   "metadata": {},
   "outputs": [],
   "source": [
    "key_img = PIL.Image.open('key1.2.jpg', 'r')"
   ]
  },
  {
   "cell_type": "code",
   "execution_count": 8,
   "metadata": {},
   "outputs": [],
   "source": [
    "def make_gcd_matrix(key_img):\n",
    "    \n",
    "    pix_val_key = list(key_img.getdata())\n",
    "    \n",
    "    rows = key_img.size[0]\n",
    "    cols = key_img.size[1]\n",
    "    \n",
    "    gcd_matrix = []\n",
    "\n",
    "    temp_li = []\n",
    "    for pix_val in pix_val_key:\n",
    "        gcd1 = math.gcd(pix_val[0], pix_val[1])\n",
    "        gcd2 = math.gcd(pix_val[1], pix_val[2])\n",
    "        gcd3 = math.gcd(pix_val[2], pix_val[0])\n",
    "        gcd = (gcd1, gcd2, gcd3)\n",
    "        temp_li.append(gcd)\n",
    "        if len(temp_li) % key_img.size[0] == 0:\n",
    "            if len(temp_li) == 0:\n",
    "                temp_li = []\n",
    "            else:\n",
    "                gcd_matrix.append(temp_li)\n",
    "                temp_li = []\n",
    "          \n",
    "    return gcd_matrix\n",
    "\n",
    "def get_sum_mod(gcd_matrix):\n",
    "    \n",
    "    sum_mod = []\n",
    "    for i in range(len(gcd_matrix)):\n",
    "        temp_sum_mod1 = 0\n",
    "        temp_sum_mod2 = 0\n",
    "        temp_sum_mod3 = 0\n",
    "        for j in range(len(gcd_matrix[i])):\n",
    "            if i == j:\n",
    "                continue\n",
    "            temp_sum_mod1 += gcd_matrix[i][j][0]\n",
    "            temp_sum_mod2 += gcd_matrix[i][j][1]\n",
    "            temp_sum_mod3 += gcd_matrix[i][j][2]\n",
    "            \n",
    "        temp_sum_mod = [temp_sum_mod1 % 256, temp_sum_mod2 % 256, temp_sum_mod3 % 256]\n",
    "        \n",
    "        sum_mod.append(temp_sum_mod)\n",
    "    return sum_mod\n",
    "\n",
    "def make_matrix_table(sum_mod):\n",
    "    \n",
    "    dict_matrix_table = {}\n",
    "    dict_matrix_table[0] = {}\n",
    "    dict_matrix_table[1] = {}\n",
    "    dict_matrix_table[2] = {}\n",
    "    for i in range(3):\n",
    "        for j in range(256):\n",
    "            dict_matrix_table[i][j] = []\n",
    "    \n",
    "    temp_list = [[i,i,i] for i in range(256)]\n",
    "    \n",
    "    for i in range(256):\n",
    "        for k in range(len(temp_list)):\n",
    "            for j in range(3):\n",
    "                temp_list[k][j] += sum_mod[i % len(sum_mod)][j]\n",
    "                temp_list[k][j] = temp_list[k][j] % len(temp_list)\n",
    "                \n",
    "        for j in temp_list:\n",
    "            for l in range(3):\n",
    "                dict_matrix_table[l][i].append(j[l])\n",
    "            \n",
    "    return dict_matrix_table"
   ]
  },
  {
   "cell_type": "code",
   "execution_count": 9,
   "metadata": {},
   "outputs": [],
   "source": [
    "def pad_image(img, key):\n",
    "    \n",
    "    img_dim = img.shape\n",
    "    key_dim = key.size\n",
    "    img_arr = np.asarray(img)\n",
    "    pad_size_width = img_dim[0] % key_dim[0]\n",
    "    pad_size_height = img_dim[1] % key_dim[1]\n",
    "    \n",
    "    if pad_size_width != 0 or pad_size_height != 0:\n",
    "        arr_width = np.zeros((img_dim[1], key_dim[0]-pad_size_width, 3), dtype = 'uint8')\n",
    "        arr_height = np.zeros((key_dim[1] - pad_size_height, (img_dim[0] + key_dim[0] - pad_size_width), 3), dtype = 'uint8')\n",
    "        padded_img = np.concatenate((img_arr, arr_width), axis = 1)\n",
    "        padded_img = np.concatenate((padded_img, arr_height), axis = 0)      \n",
    "        return padded_img\n",
    "    else:\n",
    "        return np.asarray(img)"
   ]
  },
  {
   "cell_type": "code",
   "execution_count": 10,
   "metadata": {},
   "outputs": [],
   "source": [
    "def trans(sum_mod):\n",
    "    \n",
    "    trans_mod = []\n",
    "    for i in range(len(sum_mod)):\n",
    "        temp = []\n",
    "        for j in range(len(sum_mod[i])):\n",
    "            temp.append(sum_mod[i][j] % len(sum_mod))\n",
    "        trans_mod.append(temp)\n",
    "        \n",
    "    dim1 = []\n",
    "    dim2 = []\n",
    "    dim3 = []\n",
    "    \n",
    "    for i in range(len(trans_mod)):\n",
    "        if trans_mod[i][0] not in dim1:\n",
    "            dim1.append(trans_mod[i][0])\n",
    "        \n",
    "        if trans_mod[i][0] in dim1:\n",
    "            for j in range(trans_mod[i][0]+1, len(trans_mod)):\n",
    "                if j not in dim1:\n",
    "                    dim1.append(j)\n",
    "                    break\n",
    "                if j == len(trans_mod) -1:\n",
    "                    for k in range(0, trans_mod[i][0]):\n",
    "                        if k not in dim1:\n",
    "                            dim1.append(k)\n",
    "                            break\n",
    "                            \n",
    "        if trans_mod[i][1] not in dim2:\n",
    "            dim2.append(trans_mod[i][1])\n",
    "            \n",
    "        if trans_mod[i][1] in dim1:\n",
    "            for j in range(trans_mod[i][1]+1, len(trans_mod)):\n",
    "                if j not in dim2:\n",
    "                    dim2.append(j)\n",
    "                    break\n",
    "                if j == len(trans_mod) -1:\n",
    "                    for k in range(0, trans_mod[i][1]):\n",
    "                        if k not in dim2:\n",
    "                            dim2.append(k)\n",
    "                            break\n",
    "\n",
    "        if trans_mod[i][2] not in dim3:\n",
    "            dim3.append(trans_mod[i][2])\n",
    "            \n",
    "        if trans_mod[i][2] in dim3:\n",
    "            for j in range(trans_mod[i][2]+1, len(trans_mod)):\n",
    "                if j not in dim3:\n",
    "                    dim3.append(j)\n",
    "                    break\n",
    "                if j == len(trans_mod) -1:\n",
    "                    for k in range(0, trans_mod[i][2]):\n",
    "                        if k not in dim3:\n",
    "                            dim3.append(k)\n",
    "                            break\n",
    "                            \n",
    "    return dim1, dim2, dim3"
   ]
  },
  {
   "cell_type": "code",
   "execution_count": 11,
   "metadata": {},
   "outputs": [],
   "source": [
    "def encrypt_trans(dim1, dim2, dim3, subs_cipher_img):\n",
    "    \n",
    "    cipher_img = np.empty(subs_cipher_img.shape, dtype = 'uint8')\n",
    "    \n",
    "    for i in range(subs_cipher_img.shape[0]):\n",
    "        for j in range(len(dim1)):\n",
    "            index = dim1[j] \n",
    "            k = 0\n",
    "            while index + k * len(dim1) < cipher_img.shape[1]:\n",
    "                cipher_img[i,j + k * len(dim1),0] = subs_cipher_img[i, index + len(dim1)*k, 0]\n",
    "                k += 1\n",
    "            \n",
    "    for i in range(subs_cipher_img.shape[0]):\n",
    "        for j in range(len(dim2)):\n",
    "            index = dim2[j] \n",
    "            k = 0\n",
    "            while index + k * len(dim2) < cipher_img.shape[1]:\n",
    "                cipher_img[i,j + k * len(dim2),1] = subs_cipher_img[i, index + len(dim2)*k, 1]\n",
    "                k += 1\n",
    "\n",
    "    for i in range(subs_cipher_img.shape[0]):\n",
    "        for j in range(len(dim3)):\n",
    "            index = dim3[j] \n",
    "            k = 0\n",
    "            while index + k * len(dim3) < cipher_img.shape[1]:\n",
    "                cipher_img[i,j + k * len(dim3),2] = subs_cipher_img[i, index + len(dim3)*k, 2]\n",
    "                k += 1\n",
    "            \n",
    "    return cipher_img"
   ]
  },
  {
   "cell_type": "code",
   "execution_count": 12,
   "metadata": {},
   "outputs": [],
   "source": [
    "def encrypt_trans1(dim1, dim2, dim3, subs_cipher_img):\n",
    "    \n",
    "    cipher_img = np.empty(subs_cipher_img.shape, dtype = 'uint8')\n",
    "    \n",
    "    for j in range(subs_cipher_img.shape[1]):\n",
    "        for i in range(len(dim1)):\n",
    "            index = dim1[i] \n",
    "            k = 0\n",
    "            while index + k * len(dim1) < cipher_img.shape[0]:\n",
    "                cipher_img[i + k * len(dim1),j,0] = subs_cipher_img[index + len(dim1)*k, j, 0]\n",
    "                k += 1\n",
    "            \n",
    "    for j in range(subs_cipher_img.shape[1]):\n",
    "        for i in range(len(dim2)):\n",
    "            index = dim2[i] \n",
    "            k = 0\n",
    "            while index + k * len(dim2) < cipher_img.shape[0]:\n",
    "                cipher_img[i+ k * len(dim2),j,1] = subs_cipher_img[index + len(dim2)*k, j, 1]\n",
    "                k += 1\n",
    "\n",
    "    for j in range(subs_cipher_img.shape[1]):\n",
    "        for i in range(len(dim3)):\n",
    "            index = dim3[i] \n",
    "            k = 0\n",
    "            while index + k * len(dim3) < cipher_img.shape[0]:\n",
    "                cipher_img[i+ k * len(dim3),j,2] = subs_cipher_img[index + len(dim3)*k, j, 2]\n",
    "                k += 1\n",
    "            \n",
    "    return cipher_img"
   ]
  },
  {
   "cell_type": "code",
   "execution_count": 13,
   "metadata": {},
   "outputs": [],
   "source": [
    "def decrypt_trans1(dim1, dim2, dim3, cipher_img):\n",
    "        \n",
    "    plain_img = np.empty(cipher_img.shape, dtype = 'uint8')\n",
    "    \n",
    "    for j in range(cipher_img.shape[1]):\n",
    "        for i in range(len(dim1)):\n",
    "#             current = cipher_img[i,j,0]\n",
    "            index = dim1[i]\n",
    "            k = 0\n",
    "            while index + k * len(dim1) < cipher_img.shape[0]:\n",
    "                plain_img[index + k * len(dim1),j, 0] = cipher_img[i + k * len(dim1),j,0]\n",
    "                k += 1\n",
    "        \n",
    "    for j in range(cipher_img.shape[1]):\n",
    "        for i in range(len(dim2)):\n",
    "            index = dim2[i]\n",
    "            k = 0\n",
    "            while index + k * len(dim2) < cipher_img.shape[0]:\n",
    "                plain_img[index + k * len(dim2),j, 1] = cipher_img[i + k * len(dim2),j,1]\n",
    "                k += 1\n",
    "                \n",
    "    for j in range(cipher_img.shape[1]):\n",
    "        for i in range(len(dim3)):\n",
    "            index = dim3[i]\n",
    "            k = 0\n",
    "            while index + k * len(dim3) < cipher_img.shape[0]:\n",
    "                plain_img[index + k * len(dim3),j, 2] = cipher_img[i + k * len(dim3),j,2]\n",
    "                k += 1\n",
    "            \n",
    "    return plain_img"
   ]
  },
  {
   "cell_type": "code",
   "execution_count": 14,
   "metadata": {},
   "outputs": [],
   "source": [
    "def decrypt_trans(dim1, dim2, dim3, cipher_img):\n",
    "        \n",
    "    plain_img = np.empty(cipher_img.shape, dtype = 'uint8')\n",
    "    \n",
    "    for i in range(cipher_img.shape[0]):\n",
    "        for j in range(len(dim1)):\n",
    "#             current = cipher_img[i,j,0]\n",
    "            index = dim1[j]\n",
    "            k = 0\n",
    "            while index + k * len(dim1) < cipher_img.shape[1]:\n",
    "                plain_img[i,index + k * len(dim1), 0] = cipher_img[i,j + k * len(dim1),0]\n",
    "                k += 1\n",
    "        \n",
    "    for i in range(cipher_img.shape[0]):\n",
    "        for j in range(len(dim2)):\n",
    "            index = dim2[j]\n",
    "            k = 0\n",
    "            while index + k * len(dim2) < cipher_img.shape[1]:\n",
    "                plain_img[i,index + k * len(dim2), 1] = cipher_img[i,j + k * len(dim2),1]\n",
    "                k += 1\n",
    "                \n",
    "    for i in range(cipher_img.shape[0]):\n",
    "        for j in range(len(dim3)):\n",
    "            index = dim3[j]\n",
    "            k = 0\n",
    "            while index + k * len(dim3) < cipher_img.shape[1]:\n",
    "                plain_img[i,index + k * len(dim3), 2] = cipher_img[i,j + k * len(dim3),2]\n",
    "                k += 1\n",
    "            \n",
    "    return plain_img"
   ]
  },
  {
   "cell_type": "code",
   "execution_count": 15,
   "metadata": {},
   "outputs": [],
   "source": [
    "def final_encrypt(plain_img, key_img):\n",
    "    \n",
    "    gcd_matrix = make_gcd_matrix(key_img)\n",
    "    sum_mod = get_sum_mod(gcd_matrix)\n",
    "    dict_matrix_table = make_matrix_table(sum_mod)\n",
    "    padded_img = pad_image(plain_img, key_img)\n",
    "#     padded_img = np.asarray(plain_img)\n",
    "    key_dim = key_img.size\n",
    "    key = np.asarray(key_img)\n",
    "    cipher_img = np.empty(padded_img.shape, dtype = 'uint8')\n",
    "    \n",
    "    for i in range(padded_img.shape[0]):\n",
    "        for j in range(padded_img.shape[1]):\n",
    "            dict_key = key[i%key_dim[0],j%key_dim[1]]\n",
    "            for k in range(3):\n",
    "                cipher_img[i][j][k] = dict_matrix_table[k][dict_key[k]][padded_img[i,j,k]]\n",
    "                \n",
    "    dim1, dim2, dim3 = trans(sum_mod)       \n",
    "    cipher_img = encrypt_trans(dim1, dim2, dim3, cipher_img)\n",
    "    cipher_img = encrypt_trans1(dim1, dim2, dim3, cipher_img)\n",
    "    \n",
    "    return cipher_img"
   ]
  },
  {
   "cell_type": "code",
   "execution_count": 39,
   "metadata": {
    "scrolled": true
   },
   "outputs": [
    {
     "name": "stdout",
     "output_type": "stream",
     "text": [
      "0\n",
      "1\n",
      "2\n",
      "3\n",
      "4\n",
      "5\n",
      "6\n",
      "7\n",
      "8\n",
      "9\n",
      "10\n",
      "11\n",
      "12\n",
      "13\n",
      "14\n",
      "15\n",
      "16\n",
      "17\n",
      "18\n",
      "19\n",
      "20\n",
      "21\n",
      "22\n",
      "23\n",
      "24\n",
      "25\n",
      "26\n",
      "27\n",
      "28\n",
      "29\n",
      "30\n",
      "31\n",
      "32\n",
      "33\n",
      "34\n",
      "35\n",
      "36\n",
      "37\n",
      "38\n",
      "39\n",
      "40\n",
      "41\n",
      "42\n",
      "43\n",
      "44\n",
      "45\n",
      "46\n",
      "47\n",
      "48\n",
      "49\n",
      "50\n",
      "51\n",
      "52\n",
      "53\n",
      "54\n",
      "55\n",
      "56\n",
      "57\n",
      "58\n",
      "59\n",
      "60\n",
      "61\n",
      "62\n",
      "63\n",
      "64\n",
      "65\n",
      "66\n",
      "67\n",
      "68\n",
      "69\n",
      "70\n",
      "71\n",
      "72\n",
      "73\n",
      "74\n",
      "75\n",
      "76\n",
      "77\n",
      "78\n",
      "79\n",
      "80\n",
      "81\n",
      "82\n",
      "83\n",
      "84\n",
      "85\n",
      "86\n",
      "87\n",
      "88\n",
      "89\n",
      "90\n",
      "91\n",
      "92\n",
      "93\n",
      "94\n",
      "95\n",
      "96\n",
      "97\n",
      "98\n",
      "99\n",
      "100\n",
      "101\n",
      "102\n",
      "103\n",
      "104\n",
      "105\n",
      "106\n",
      "107\n",
      "108\n",
      "109\n",
      "110\n",
      "111\n",
      "112\n",
      "113\n",
      "114\n",
      "115\n",
      "116\n",
      "117\n",
      "118\n",
      "119\n",
      "120\n",
      "121\n",
      "122\n",
      "123\n",
      "124\n",
      "125\n",
      "126\n",
      "127\n",
      "128\n",
      "129\n",
      "130\n",
      "131\n",
      "132\n",
      "133\n",
      "134\n",
      "135\n",
      "136\n",
      "137\n",
      "138\n",
      "139\n",
      "140\n",
      "141\n",
      "142\n",
      "143\n",
      "144\n",
      "145\n",
      "146\n",
      "147\n",
      "148\n",
      "149\n",
      "150\n",
      "151\n",
      "152\n",
      "153\n",
      "154\n",
      "155\n",
      "156\n",
      "157\n",
      "158\n",
      "159\n",
      "160\n",
      "161\n",
      "162\n",
      "163\n",
      "164\n",
      "165\n",
      "166\n",
      "167\n",
      "168\n",
      "169\n",
      "170\n",
      "171\n",
      "172\n",
      "173\n",
      "174\n",
      "175\n",
      "176\n",
      "177\n",
      "178\n",
      "179\n",
      "180\n",
      "181\n",
      "182\n",
      "183\n",
      "184\n",
      "185\n",
      "186\n",
      "187\n",
      "188\n",
      "189\n",
      "190\n",
      "191\n",
      "192\n",
      "193\n",
      "194\n",
      "195\n",
      "196\n",
      "197\n",
      "198\n",
      "199\n",
      "200\n",
      "201\n",
      "202\n",
      "203\n",
      "204\n",
      "205\n",
      "206\n",
      "207\n",
      "208\n",
      "209\n",
      "210\n",
      "211\n",
      "212\n",
      "213\n",
      "214\n",
      "215\n",
      "216\n",
      "217\n",
      "218\n"
     ]
    }
   ],
   "source": [
    "cipher_video_li = []\n",
    "i = 0\n",
    "while cap.isOpened():\n",
    "    ret, frame = cap.read()\n",
    "    if not ret:\n",
    "        break\n",
    "    frame = cv2.resize(frame, (128,128))\n",
    "    cipher_video_li.append(final_encrypt(frame, key_img))\n",
    "    print(i)\n",
    "    i+=1\n",
    "cap.release()    "
   ]
  },
  {
   "cell_type": "code",
   "execution_count": 41,
   "metadata": {},
   "outputs": [
    {
     "data": {
      "text/plain": [
       "219"
      ]
     },
     "execution_count": 41,
     "metadata": {},
     "output_type": "execute_result"
    }
   ],
   "source": [
    "len(cipher_video_li)"
   ]
  },
  {
   "cell_type": "code",
   "execution_count": 42,
   "metadata": {},
   "outputs": [],
   "source": [
    "import moviepy.video.io.ImageSequenceClip"
   ]
  },
  {
   "cell_type": "code",
   "execution_count": 59,
   "metadata": {},
   "outputs": [],
   "source": [
    "clip = moviepy.video.io.ImageSequenceClip.ImageSequenceClip(cipher_video_li, fps=1)"
   ]
  },
  {
   "cell_type": "code",
   "execution_count": 60,
   "metadata": {},
   "outputs": [
    {
     "name": "stderr",
     "output_type": "stream",
     "text": [
      "                                                                "
     ]
    },
    {
     "name": "stdout",
     "output_type": "stream",
     "text": [
      "Moviepy - Building video encrypted1.mp4.\n",
      "Moviepy - Writing video encrypted1.mp4\n",
      "\n"
     ]
    },
    {
     "name": "stderr",
     "output_type": "stream",
     "text": [
      "\r"
     ]
    },
    {
     "name": "stdout",
     "output_type": "stream",
     "text": [
      "Moviepy - Done !\n",
      "Moviepy - video ready encrypted1.mp4\n"
     ]
    }
   ],
   "source": [
    "clip.write_videofile('encrypted1.mp4')"
   ]
  },
  {
   "cell_type": "code",
   "execution_count": null,
   "metadata": {},
   "outputs": [],
   "source": [
    "# temp_li = []\n",
    "# while cap.isOpened():\n",
    "#     ret, frame = cap.read()\n",
    "#     if not ret:\n",
    "#         break\n",
    "#     temp_li.append(cv2.cvtColor(cv2.resize(frame, (640,360)), cv2.COLOR_BGR2RGB))"
   ]
  },
  {
   "cell_type": "code",
   "execution_count": null,
   "metadata": {},
   "outputs": [],
   "source": [
    "# clip1 = moviepy.video.io.ImageSequenceClip.ImageSequenceClip(temp_li, fps=fps)"
   ]
  },
  {
   "cell_type": "code",
   "execution_count": null,
   "metadata": {},
   "outputs": [],
   "source": [
    "# clip1.write_videofile('resized.mp4')"
   ]
  },
  {
   "cell_type": "code",
   "execution_count": 77,
   "metadata": {},
   "outputs": [],
   "source": [
    "out = cv2.VideoWriter('encrypted.mp4',cv2.VideoWriter_fourcc(*'H264'),1,(128,128))"
   ]
  },
  {
   "cell_type": "code",
   "execution_count": 78,
   "metadata": {},
   "outputs": [],
   "source": [
    "for i in range(len(cipher_video_li)):\n",
    "#     temp = cv2.resize(cipher_video_li[i], (128,720))\n",
    "#     print(temp.shape)\n",
    "    out.write(cipher_video_li[i])"
   ]
  },
  {
   "cell_type": "code",
   "execution_count": 79,
   "metadata": {},
   "outputs": [],
   "source": [
    "cap_c = cv2.VideoCapture('encrypted.mp4')"
   ]
  },
  {
   "cell_type": "code",
   "execution_count": 80,
   "metadata": {},
   "outputs": [
    {
     "data": {
      "text/plain": [
       "True"
      ]
     },
     "execution_count": 80,
     "metadata": {},
     "output_type": "execute_result"
    }
   ],
   "source": [
    "cap_c.isOpened() == True"
   ]
  },
  {
   "cell_type": "code",
   "execution_count": 81,
   "metadata": {},
   "outputs": [],
   "source": [
    "fps_c = cap_c.get(cv2.CAP_PROP_FPS)"
   ]
  },
  {
   "cell_type": "code",
   "execution_count": 82,
   "metadata": {},
   "outputs": [
    {
     "data": {
      "text/plain": [
       "1.0"
      ]
     },
     "execution_count": 82,
     "metadata": {},
     "output_type": "execute_result"
    }
   ],
   "source": [
    "fps_c"
   ]
  },
  {
   "cell_type": "code",
   "execution_count": 83,
   "metadata": {},
   "outputs": [],
   "source": [
    "def final_decrypt(cipher_img, key_img):\n",
    "    \n",
    "#     gcd_matrix = make_gcd_matrix(key_img)\n",
    "#     sum_mod = get_sum_mod(gcd_matrix)\n",
    "#     dict_matrix_table = make_matrix_table(sum_mod)\n",
    "#     key_dim = key_img.size\n",
    "#     key = np.asarray(key_img)\n",
    "#     dim1, dim2, dim3 = trans(sum_mod)\n",
    "    \n",
    "    plain_img_trans = decrypt_trans1(dim1, dim2, dim3, cipher_img)\n",
    "    plain_img_trans = decrypt_trans(dim1, dim2, dim3, plain_img_trans)\n",
    "    \n",
    "    plain_img = np.empty(cipher_img.shape, dtype = 'uint8')\n",
    "\n",
    "    for i in range(plain_img_trans.shape[0]):\n",
    "        for j in range(plain_img_trans.shape[1]):\n",
    "            dict_key = key[i%key_dim[0],j%key_dim[1]]\n",
    "            for k in range(3):\n",
    "                ind = plain_img_trans[i,j,k] - dict_matrix_table[k][dict_key[k]][0]\n",
    "                plain_img[i,j,k] = ind\n",
    "                \n",
    "    return plain_img"
   ]
  },
  {
   "cell_type": "code",
   "execution_count": 84,
   "metadata": {
    "scrolled": true
   },
   "outputs": [
    {
     "name": "stdout",
     "output_type": "stream",
     "text": [
      "0\n"
     ]
    }
   ],
   "source": [
    "gcd_matrix = make_gcd_matrix(key_img)\n",
    "sum_mod = get_sum_mod(gcd_matrix)\n",
    "dict_matrix_table = make_matrix_table(sum_mod)\n",
    "key_dim = key_img.size\n",
    "key = np.asarray(key_img)\n",
    "dim1, dim2, dim3 = trans(sum_mod)\n",
    "\n",
    "plain_video_li = []\n",
    "i = 0\n",
    "while cap_c.isOpened():\n",
    "    ret, frame = cap_c.read()\n",
    "    if not ret:\n",
    "        break\n",
    "#     frame = (cv2.cvtColor(cv2.resize(frame, (128,128)), cv2.COLOR_BGR2RGB))\n",
    "    plain_video_li.append(final_decrypt(frame, key_img))\n",
    "    print(i)\n",
    "    break\n",
    "    i+=1\n",
    "cap.release()   "
   ]
  },
  {
   "cell_type": "code",
   "execution_count": 85,
   "metadata": {},
   "outputs": [
    {
     "data": {
      "text/plain": [
       "<matplotlib.image.AxesImage at 0x7f9fc5fc7d50>"
      ]
     },
     "execution_count": 85,
     "metadata": {},
     "output_type": "execute_result"
    },
    {
     "data": {
      "image/png": "[encoded data removed]",
      "text/plain": [
       "<Figure size 432x288 with 1 Axes>"
      ]
     },
     "metadata": {
      "needs_background": "light"
     },
     "output_type": "display_data"
    }
   ],
   "source": [
    "imshow(cv2.cvtColor(plain_video_li[0], cv2.COLOR_BGR2RGB))"
   ]
  },
  {
   "cell_type": "code",
   "execution_count": null,
   "metadata": {},
   "outputs": [],
   "source": [
    "fourcc = cv2.VideoWriter_fourcc(*'H264') \n",
    "out = cv2.VideoWriter('decrypted.mp4',fourcc,fps,(128,128))"
   ]
  },
  {
   "cell_type": "code",
   "execution_count": null,
   "metadata": {},
   "outputs": [],
   "source": [
    "for i in range(len(plain_video_li)):\n",
    "#     temp = cv2.resize(plain_video_li[i], (1280,720))\n",
    "#     print(temp.shape)\n",
    "    out.write(plain_video_li[i])\n",
    "#     break"
   ]
  },
  {
   "cell_type": "code",
   "execution_count": 86,
   "metadata": {
    "scrolled": true
   },
   "outputs": [
    {
     "name": "stdout",
     "output_type": "stream",
     "text": [
      "0\n"
     ]
    }
   ],
   "source": [
    "plain_video_li = []\n",
    "for i in range(len(cipher_video_li)):\n",
    "    plain_video_li.append(final_decrypt(cipher_video_li[i], key_img))\n",
    "    print(i)\n",
    "    break"
   ]
  },
  {
   "cell_type": "code",
   "execution_count": 87,
   "metadata": {},
   "outputs": [
    {
     "data": {
      "text/plain": [
       "<matplotlib.image.AxesImage at 0x7f9fc732d5d0>"
      ]
     },
     "execution_count": 87,
     "metadata": {},
     "output_type": "execute_result"
    },
    {
     "data": {
      "image/png": "[encoded data removed]",
      "text/plain": [
       "<Figure size 432x288 with 1 Axes>"
      ]
     },
     "metadata": {
      "needs_background": "light"
     },
     "output_type": "display_data"
    }
   ],
   "source": [
    "# color = \n",
    "imshow(cv2.cvtColor(plain_video_li[0], cv2.COLOR_BGR2RGB))"
   ]
  },
  {
   "cell_type": "code",
   "execution_count": null,
   "metadata": {},
   "outputs": [],
   "source": [
    "out1 = cv2.VideoWriter('decrypted1.mp4',cv2.VideoWriter_fourcc(*'DIVX'),fps,(128,128))"
   ]
  },
  {
   "cell_type": "code",
   "execution_count": null,
   "metadata": {},
   "outputs": [],
   "source": [
    "for i in range(len(plain_video_li)):\n",
    "#     temp = cv2.resize(plain_video_li[i], (1280,720))\n",
    "#     print(temp.shape)\n",
    "    out1.write(plain_video_li[i])"
   ]
  },
  {
   "cell_type": "code",
   "execution_count": null,
   "metadata": {},
   "outputs": [],
   "source": []
  }
 ],
 "metadata": {
  "kernelspec": {
   "display_name": "Python 3",
   "language": "python",
   "name": "python3"
  },
  "language_info": {
   "codemirror_mode": {
    "name": "ipython",
    "version": 3
   },
   "file_extension": ".py",
   "mimetype": "text/x-python",
   "name": "python",
   "nbconvert_exporter": "python",
   "pygments_lexer": "ipython3",
   "version": "3.7.5"
  }
 },
 "nbformat": 4,
 "nbformat_minor": 2
}
